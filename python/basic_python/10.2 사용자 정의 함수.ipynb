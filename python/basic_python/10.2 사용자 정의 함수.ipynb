{
 "cells": [
  {
   "cell_type": "markdown",
   "id": "d9cdf520-8c65-41f9-8fb6-e85e0485c05d",
   "metadata": {},
   "source": [
    "# 사용자 정의 함수"
   ]
  },
  {
   "cell_type": "code",
   "execution_count": 2,
   "id": "01f4a20c-87ba-4296-9b80-407afb07d05f",
   "metadata": {},
   "outputs": [],
   "source": [
    "def square2(x=2,y=3):\n",
    "    x = x **2 \n",
    "    y = y** 2\n",
    "    return x,y"
   ]
  },
  {
   "cell_type": "code",
   "execution_count": 3,
   "id": "fd962b72-78b7-4456-bd66-a5b4524f87b5",
   "metadata": {},
   "outputs": [
    {
     "data": {
      "text/plain": [
       "(4, 9)"
      ]
     },
     "execution_count": 3,
     "metadata": {},
     "output_type": "execute_result"
    }
   ],
   "source": [
    "square2()"
   ]
  },
  {
   "cell_type": "code",
   "execution_count": 11,
   "id": "21669e45-1770-4045-b22e-a95c9fbe9573",
   "metadata": {},
   "outputs": [
    {
     "data": {
      "text/plain": [
       "(4, 9)"
      ]
     },
     "execution_count": 11,
     "metadata": {},
     "output_type": "execute_result"
    }
   ],
   "source": [
    "square2(2)"
   ]
  },
  {
   "cell_type": "code",
   "execution_count": 12,
   "id": "62cf6bf7-797e-46cf-ad16-ea9fbc9cd70c",
   "metadata": {},
   "outputs": [
    {
     "data": {
      "text/plain": [
       "(16, 25)"
      ]
     },
     "execution_count": 12,
     "metadata": {},
     "output_type": "execute_result"
    }
   ],
   "source": [
    "square2(4,5)"
   ]
  },
  {
   "cell_type": "code",
   "execution_count": 13,
   "id": "79b50f05-4f45-4621-b1e7-ae38f7b421bc",
   "metadata": {},
   "outputs": [
    {
     "data": {
      "text/plain": [
       "(16, 25)"
      ]
     },
     "execution_count": 13,
     "metadata": {},
     "output_type": "execute_result"
    }
   ],
   "source": [
    "square2(y=5,x=4)"
   ]
  },
  {
   "cell_type": "code",
   "execution_count": 15,
   "id": "b0c46873-ea8e-4e40-b360-ecd8bb254387",
   "metadata": {},
   "outputs": [],
   "source": [
    "def changeble(x,*y):\n",
    "    print(x,y)"
   ]
  },
  {
   "cell_type": "code",
   "execution_count": 16,
   "id": "c73175a6-9f8e-42b4-9e3c-c0a2ce7c3a21",
   "metadata": {},
   "outputs": [
    {
     "name": "stdout",
     "output_type": "stream",
     "text": [
      "1 ()\n"
     ]
    }
   ],
   "source": [
    "changeble(1)"
   ]
  },
  {
   "cell_type": "code",
   "execution_count": 17,
   "id": "69811b7a-3de8-4195-ac19-878b8b46b7d9",
   "metadata": {},
   "outputs": [
    {
     "name": "stdout",
     "output_type": "stream",
     "text": [
      "1 (2,)\n"
     ]
    }
   ],
   "source": [
    "changeble(1,2)"
   ]
  },
  {
   "cell_type": "code",
   "execution_count": 18,
   "id": "3d918291-07b2-4c15-bfd0-3ba53a4711db",
   "metadata": {},
   "outputs": [
    {
     "name": "stdout",
     "output_type": "stream",
     "text": [
      "1 (2, 3)\n"
     ]
    }
   ],
   "source": [
    "changeble(1,2,3)"
   ]
  },
  {
   "cell_type": "code",
   "execution_count": 19,
   "id": "d1c2e1ae-58b3-4efb-8f10-37ff868b4376",
   "metadata": {},
   "outputs": [
    {
     "name": "stdout",
     "output_type": "stream",
     "text": [
      "1 (2, 3, 4, 5)\n"
     ]
    }
   ],
   "source": [
    "changeble(1,2,3,4,5)"
   ]
  },
  {
   "cell_type": "code",
   "execution_count": null,
   "id": "6bf7876a-f004-45db-b9a0-300984c4ab05",
   "metadata": {},
   "outputs": [],
   "source": []
  }
 ],
 "metadata": {
  "kernelspec": {
   "display_name": "Python 3",
   "language": "python",
   "name": "python3"
  },
  "language_info": {
   "codemirror_mode": {
    "name": "ipython",
    "version": 3
   },
   "file_extension": ".py",
   "mimetype": "text/x-python",
   "name": "python",
   "nbconvert_exporter": "python",
   "pygments_lexer": "ipython3",
   "version": "3.8.8"
  }
 },
 "nbformat": 4,
 "nbformat_minor": 5
}
