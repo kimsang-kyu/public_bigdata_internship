{
 "cells": [
  {
   "cell_type": "code",
   "execution_count": 1,
   "id": "71dddfeb-e0f0-4bea-b57f-0de28cdeaf33",
   "metadata": {},
   "outputs": [],
   "source": [
    "name, age, phone = '홍길동', 25, '010-9999'"
   ]
  },
  {
   "cell_type": "code",
   "execution_count": 2,
   "id": "77280a87-45f7-4161-9f82-f28a049905fb",
   "metadata": {},
   "outputs": [
    {
     "data": {
      "text/plain": [
       "'이름은 홍길동이고, 나이는 25이며, 전화번호는 010-9999입니다'"
      ]
     },
     "execution_count": 2,
     "metadata": {},
     "output_type": "execute_result"
    }
   ],
   "source": [
    "소개 = '이름은 {}이고, 나이는 {}이며, 전화번호는 {}입니다'.format(name, age, phone)\n",
    "소개"
   ]
  },
  {
   "cell_type": "code",
   "execution_count": 3,
   "id": "e8894e59-881e-45b6-a2b5-b28ede2342d9",
   "metadata": {},
   "outputs": [
    {
     "data": {
      "text/plain": [
       "'이름은 홍길동이고, 나이는 010-9999이며, 전화번호는 25입니다'"
      ]
     },
     "execution_count": 3,
     "metadata": {},
     "output_type": "execute_result"
    }
   ],
   "source": [
    "소개 = '이름은 {0}이고, 나이는 {2}이며, 전화번호는 {1}입니다'.format(name, age, phone)\n",
    "소개"
   ]
  },
  {
   "cell_type": "code",
   "execution_count": 4,
   "id": "93aad6c7-9e82-457f-b837-4e1d8aa96b82",
   "metadata": {},
   "outputs": [
    {
     "data": {
      "text/plain": [
       "'이름은 홍길동이고, 나이는 25이며, 전화번호는 010-9999입니다'"
      ]
     },
     "execution_count": 4,
     "metadata": {},
     "output_type": "execute_result"
    }
   ],
   "source": [
    "소개 = '이름은 {a}이고, 나이는 {b}이며, 전화번호는 {c}입니다'.format(a = name,b=  age, c = phone)\n",
    "소개"
   ]
  },
  {
   "cell_type": "code",
   "execution_count": 5,
   "id": "4357a1bc-afe3-426d-b447-4b03ac00e1cc",
   "metadata": {},
   "outputs": [
    {
     "data": {
      "text/plain": [
       "'이름은 홍길동이고, 나이는 25이며, 전화번호는 010-9999입니다'"
      ]
     },
     "execution_count": 5,
     "metadata": {},
     "output_type": "execute_result"
    }
   ],
   "source": [
    "소개 = f'이름은 {name}이고, 나이는 {age}이며, 전화번호는 {phone}입니다'\n",
    "소개"
   ]
  },
  {
   "cell_type": "code",
   "execution_count": 8,
   "id": "44d081e7-2a3e-4880-93af-6369cee87161",
   "metadata": {},
   "outputs": [],
   "source": [
    "jan, dec = 1, 12"
   ]
  },
  {
   "cell_type": "code",
   "execution_count": 10,
   "id": "5d8d20ee-39e1-41ca-839d-a0aaba5b9edb",
   "metadata": {},
   "outputs": [
    {
     "name": "stdout",
     "output_type": "stream",
     "text": [
      "한해의 시작은 01월\n",
      "한해의 마지막은 12월\n"
     ]
    }
   ],
   "source": [
    "print(\"한해의 시작은 {:02d}월\".format(jan))\n",
    "print(\"한해의 마지막은 {:02d}월\".format(dec))"
   ]
  },
  {
   "cell_type": "code",
   "execution_count": 11,
   "id": "bed24c71-c40d-472f-80f4-ced8b7ff43be",
   "metadata": {},
   "outputs": [
    {
     "data": {
      "text/plain": [
       "'123,456,789'"
      ]
     },
     "execution_count": 11,
     "metadata": {},
     "output_type": "execute_result"
    }
   ],
   "source": [
    "val = 123456789\n",
    "money = '{:,}'\n",
    "money.format(val)"
   ]
  },
  {
   "cell_type": "code",
   "execution_count": 12,
   "id": "3237f153-a0ef-411b-8af4-e9661a7d4005",
   "metadata": {},
   "outputs": [
    {
     "data": {
      "text/plain": [
       "'3, 3.000000, 3.0,3.14,33.33%'"
      ]
     },
     "execution_count": 12,
     "metadata": {},
     "output_type": "execute_result"
    }
   ],
   "source": [
    "'{}, {:f}, {:.1f},{:.2f},{:.2%}'.format(3,3,3,3.1415,1/3)"
   ]
  }
 ],
 "metadata": {
  "kernelspec": {
   "display_name": "Python 3",
   "language": "python",
   "name": "python3"
  },
  "language_info": {
   "codemirror_mode": {
    "name": "ipython",
    "version": 3
   },
   "file_extension": ".py",
   "mimetype": "text/x-python",
   "name": "python",
   "nbconvert_exporter": "python",
   "pygments_lexer": "ipython3",
   "version": "3.8.8"
  }
 },
 "nbformat": 4,
 "nbformat_minor": 5
}
