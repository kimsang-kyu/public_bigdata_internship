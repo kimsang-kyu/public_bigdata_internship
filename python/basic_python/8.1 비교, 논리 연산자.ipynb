{
 "cells": [
  {
   "cell_type": "code",
   "execution_count": 1,
   "id": "95547f3d-e6dc-447a-8d1c-534b9ef328a4",
   "metadata": {},
   "outputs": [],
   "source": [
    "x = 10; y= 5"
   ]
  },
  {
   "cell_type": "code",
   "execution_count": 2,
   "id": "5fe1b76c-39fe-483c-8e4f-a8a600264ff0",
   "metadata": {},
   "outputs": [
    {
     "name": "stdout",
     "output_type": "stream",
     "text": [
      "False\n",
      "True\n",
      "True\n",
      "False\n",
      "True\n",
      "False\n"
     ]
    }
   ],
   "source": [
    "print(x == y)\n",
    "print(x != y)\n",
    "print(x > y)\n",
    "print(x < y)\n",
    "print(x >= y)\n",
    "print(x <= y)"
   ]
  },
  {
   "cell_type": "code",
   "execution_count": 3,
   "id": "1fbd9fce-87d5-4bf0-b815-dd76b5afe131",
   "metadata": {},
   "outputs": [],
   "source": [
    "x = True; y = False"
   ]
  },
  {
   "cell_type": "code",
   "execution_count": 5,
   "id": "4baf5388-98c2-42b4-bc0d-ee9de7e0b098",
   "metadata": {},
   "outputs": [
    {
     "name": "stdout",
     "output_type": "stream",
     "text": [
      "False\n",
      "True\n",
      "False\n"
     ]
    }
   ],
   "source": [
    "print(x and y)\n",
    "print(x or y)\n",
    "print(not x)"
   ]
  },
  {
   "cell_type": "code",
   "execution_count": null,
   "id": "71eff3e1-9b90-4bae-bd8c-5d2bb3b766a1",
   "metadata": {},
   "outputs": [],
   "source": []
  }
 ],
 "metadata": {
  "kernelspec": {
   "display_name": "Python 3",
   "language": "python",
   "name": "python3"
  },
  "language_info": {
   "codemirror_mode": {
    "name": "ipython",
    "version": 3
   },
   "file_extension": ".py",
   "mimetype": "text/x-python",
   "name": "python",
   "nbconvert_exporter": "python",
   "pygments_lexer": "ipython3",
   "version": "3.8.8"
  }
 },
 "nbformat": 4,
 "nbformat_minor": 5
}
