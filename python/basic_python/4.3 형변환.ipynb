{
 "cells": [
  {
   "cell_type": "markdown",
   "id": "d0930369-5603-4994-ad4d-febd9b3bd399",
   "metadata": {},
   "source": [
    "묵시적 형변환"
   ]
  },
  {
   "cell_type": "code",
   "execution_count": 1,
   "id": "0c86e5a3-8ffb-49fd-8cab-9d6c38b2b3fe",
   "metadata": {},
   "outputs": [
    {
     "name": "stdout",
     "output_type": "stream",
     "text": [
      "<class 'int'>\n",
      "50.0\n",
      "<class 'float'>\n"
     ]
    }
   ],
   "source": [
    "price = 1000\n",
    "print(type(price))\n",
    "\n",
    "price = price * 0.05\n",
    "print(price)\n",
    "print(type(price))"
   ]
  },
  {
   "cell_type": "code",
   "execution_count": 6,
   "id": "dcbdceee-7fd9-4f9d-b0c9-458f92d6e91d",
   "metadata": {},
   "outputs": [
    {
     "name": "stdout",
     "output_type": "stream",
     "text": [
      "<class 'int'>\n",
      "25.0\n",
      "<class 'float'>\n"
     ]
    }
   ],
   "source": [
    "i1 = 100\n",
    "print(type(i1))\n",
    "\n",
    "i1 = i1/4\n",
    "print(i1)\n",
    "print(type(i1))"
   ]
  },
  {
   "cell_type": "markdown",
   "id": "910d05a5-676b-4432-85f7-9d42c139e9a8",
   "metadata": {},
   "source": [
    "명시적 형변환"
   ]
  },
  {
   "cell_type": "code",
   "execution_count": 9,
   "id": "d5c1fcaf-47ae-41ec-890d-6a2ff72a21b4",
   "metadata": {},
   "outputs": [
    {
     "name": "stdout",
     "output_type": "stream",
     "text": [
      "<class 'float'>\n"
     ]
    }
   ],
   "source": [
    "f1 = 3.14\n",
    "print(type(f1))"
   ]
  },
  {
   "cell_type": "code",
   "execution_count": 13,
   "id": "857afdac-162e-4f99-aa83-733888ab3f5f",
   "metadata": {},
   "outputs": [
    {
     "name": "stdout",
     "output_type": "stream",
     "text": [
      "3\n",
      "<class 'int'>\n"
     ]
    }
   ],
   "source": [
    "i1 = int(f1)\n",
    "\n",
    "print(i1)\n",
    "print(type(i1))"
   ]
  },
  {
   "cell_type": "code",
   "execution_count": 15,
   "id": "33b037e2-a640-4ff7-bc67-dacacf9cefa1",
   "metadata": {},
   "outputs": [
    {
     "name": "stdout",
     "output_type": "stream",
     "text": [
      "<class 'str'>\n",
      "12345\n",
      "<class 'int'>\n"
     ]
    }
   ],
   "source": [
    "s1 = '12345'\n",
    "print(type(s1))\n",
    "\n",
    "i1 = int(s1)\n",
    "print(i1)\n",
    "\n",
    "print(type(i1))"
   ]
  },
  {
   "cell_type": "code",
   "execution_count": 16,
   "id": "4527ccfd-cf64-4b73-9c5e-9fd4c1a9f732",
   "metadata": {},
   "outputs": [
    {
     "ename": "ValueError",
     "evalue": "invalid literal for int() with base 10: '12345a'",
     "output_type": "error",
     "traceback": [
      "\u001b[1;31m---------------------------------------------------------------------------\u001b[0m",
      "\u001b[1;31mValueError\u001b[0m                                Traceback (most recent call last)",
      "\u001b[1;32m<ipython-input-16-89ebadb1e873>\u001b[0m in \u001b[0;36m<module>\u001b[1;34m\u001b[0m\n\u001b[0;32m      1\u001b[0m \u001b[0ms2\u001b[0m \u001b[1;33m=\u001b[0m \u001b[1;34m'12345a'\u001b[0m\u001b[1;33m\u001b[0m\u001b[1;33m\u001b[0m\u001b[0m\n\u001b[1;32m----> 2\u001b[1;33m \u001b[0mint\u001b[0m\u001b[1;33m(\u001b[0m\u001b[0ms2\u001b[0m\u001b[1;33m)\u001b[0m\u001b[1;33m\u001b[0m\u001b[1;33m\u001b[0m\u001b[0m\n\u001b[0m",
      "\u001b[1;31mValueError\u001b[0m: invalid literal for int() with base 10: '12345a'"
     ]
    }
   ],
   "source": [
    "s2 = '12345a'\n",
    "int(s2)"
   ]
  },
  {
   "cell_type": "code",
   "execution_count": 17,
   "id": "ea710bb2-3c6a-4893-a245-d7d1534f3111",
   "metadata": {},
   "outputs": [
    {
     "data": {
      "text/plain": [
       "1234"
      ]
     },
     "execution_count": 17,
     "metadata": {},
     "output_type": "execute_result"
    }
   ],
   "source": [
    "s2 = '1234 '\n",
    "int(s2)"
   ]
  },
  {
   "cell_type": "code",
   "execution_count": 18,
   "id": "ffe86e52-0a65-408f-b77c-6a4d697ea5ca",
   "metadata": {},
   "outputs": [
    {
     "name": "stdout",
     "output_type": "stream",
     "text": [
      "<class 'int'>\n",
      "100.0\n",
      "<class 'float'>\n"
     ]
    }
   ],
   "source": [
    "i1 = 100\n",
    "print(type(i1))\n",
    "f1 = float(i1)\n",
    "print(f1)\n",
    "print(type(f1))"
   ]
  },
  {
   "cell_type": "code",
   "execution_count": 19,
   "id": "6ee0e260-273b-4831-aea1-e74aa90af57e",
   "metadata": {},
   "outputs": [
    {
     "name": "stdout",
     "output_type": "stream",
     "text": [
      "<class 'str'>\n"
     ]
    }
   ],
   "source": [
    "s1 = '3.14'\n",
    "print(type(s1))"
   ]
  },
  {
   "cell_type": "code",
   "execution_count": 20,
   "id": "e19c9247-c695-4f07-9176-2492345d4659",
   "metadata": {},
   "outputs": [
    {
     "name": "stdout",
     "output_type": "stream",
     "text": [
      "3.14\n",
      "<class 'float'>\n"
     ]
    }
   ],
   "source": [
    "f1 = float(s1)\n",
    "print(f1)\n",
    "print(type(f1))"
   ]
  },
  {
   "cell_type": "code",
   "execution_count": null,
   "id": "9f226652-0d8c-4caa-bb87-920ca23f6580",
   "metadata": {},
   "outputs": [],
   "source": []
  },
  {
   "cell_type": "code",
   "execution_count": null,
   "id": "10671607-126f-485c-b916-7260bc063e15",
   "metadata": {},
   "outputs": [],
   "source": []
  },
  {
   "cell_type": "code",
   "execution_count": null,
   "id": "4cb62e31-59f3-4716-bb2e-1ad80cc5337d",
   "metadata": {},
   "outputs": [],
   "source": []
  },
  {
   "cell_type": "code",
   "execution_count": null,
   "id": "e54d37e3-95c4-4bbe-b182-847f217dac60",
   "metadata": {},
   "outputs": [],
   "source": []
  },
  {
   "cell_type": "code",
   "execution_count": null,
   "id": "078c1f9a-d3a0-49fd-be9e-51f82739a818",
   "metadata": {},
   "outputs": [],
   "source": []
  }
 ],
 "metadata": {
  "kernelspec": {
   "display_name": "Python 3",
   "language": "python",
   "name": "python3"
  },
  "language_info": {
   "codemirror_mode": {
    "name": "ipython",
    "version": 3
   },
   "file_extension": ".py",
   "mimetype": "text/x-python",
   "name": "python",
   "nbconvert_exporter": "python",
   "pygments_lexer": "ipython3",
   "version": "3.8.8"
  }
 },
 "nbformat": 4,
 "nbformat_minor": 5
}
