{
 "cells": [
  {
   "cell_type": "markdown",
   "id": "34290920-2442-47f3-9fd3-8d5587b7bcf1",
   "metadata": {},
   "source": [
    "# 함수"
   ]
  },
  {
   "cell_type": "code",
   "execution_count": 1,
   "id": "f5e44143-d2ec-4d9f-92ee-0da65b9aa72a",
   "metadata": {},
   "outputs": [
    {
     "name": "stdout",
     "output_type": "stream",
     "text": [
      "더하기 함수입니다\n"
     ]
    }
   ],
   "source": [
    "#매개변수 x , 반환값 x\n",
    "def add():\n",
    "    print(\"더하기 함수입니다\")\n",
    "\n",
    "add()"
   ]
  },
  {
   "cell_type": "code",
   "execution_count": 2,
   "id": "b7c27f46-ec29-431e-994c-b758e89e6522",
   "metadata": {},
   "outputs": [
    {
     "name": "stdout",
     "output_type": "stream",
     "text": [
      "3\n"
     ]
    }
   ],
   "source": [
    "#매개변수 o, 반환값 x\n",
    "def add2(x,y):\n",
    "    print(x + y)\n",
    "    \n",
    "add2(1,2)"
   ]
  },
  {
   "cell_type": "code",
   "execution_count": 3,
   "id": "10ecd630-f6bd-4234-b5e2-02228deb2b7f",
   "metadata": {},
   "outputs": [
    {
     "name": "stdout",
     "output_type": "stream",
     "text": [
      "6\n"
     ]
    }
   ],
   "source": [
    "#매개변수x, 반환값 o\n",
    "def add3():\n",
    "    x, y = 2, 4\n",
    "    return x + y\n",
    "\n",
    "re_val = add3()\n",
    "print(re_val)"
   ]
  },
  {
   "cell_type": "code",
   "execution_count": 4,
   "id": "6008cde3-4d76-430a-bdb1-82c3cb036e92",
   "metadata": {},
   "outputs": [
    {
     "name": "stdout",
     "output_type": "stream",
     "text": [
      "6\n"
     ]
    }
   ],
   "source": [
    "#매개변수o, 반환값 o\n",
    "def add4(x,y):\n",
    "    return x + y\n",
    "\n",
    "re_val = add4(2,4)\n",
    "print(re_val)"
   ]
  },
  {
   "cell_type": "code",
   "execution_count": 5,
   "id": "14eb7a2c-8a65-44fb-9d10-18b832865bd8",
   "metadata": {},
   "outputs": [],
   "source": [
    "def square(x,y):\n",
    "    x = x **2 \n",
    "    y = y** 2\n",
    "    return x,y"
   ]
  },
  {
   "cell_type": "code",
   "execution_count": 6,
   "id": "6d8699b5-321b-4115-ad75-48a03e66564b",
   "metadata": {},
   "outputs": [
    {
     "name": "stdout",
     "output_type": "stream",
     "text": [
      "4\n",
      "9\n"
     ]
    }
   ],
   "source": [
    "a, b = square(2,3)\n",
    "print(a)\n",
    "print(b)"
   ]
  }
 ],
 "metadata": {
  "kernelspec": {
   "display_name": "Python 3",
   "language": "python",
   "name": "python3"
  },
  "language_info": {
   "codemirror_mode": {
    "name": "ipython",
    "version": 3
   },
   "file_extension": ".py",
   "mimetype": "text/x-python",
   "name": "python",
   "nbconvert_exporter": "python",
   "pygments_lexer": "ipython3",
   "version": "3.8.8"
  }
 },
 "nbformat": 4,
 "nbformat_minor": 5
}
