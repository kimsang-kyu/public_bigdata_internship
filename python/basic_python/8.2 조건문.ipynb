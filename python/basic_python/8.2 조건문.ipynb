{
 "cells": [
  {
   "cell_type": "markdown",
   "id": "dc146dfb-1ebc-420e-a7d0-964a39c826d0",
   "metadata": {},
   "source": [
    "# 조건문"
   ]
  },
  {
   "cell_type": "code",
   "execution_count": 1,
   "id": "1f56a188-3820-4737-8980-dab398a79b95",
   "metadata": {},
   "outputs": [],
   "source": [
    "x,y = 10,5"
   ]
  },
  {
   "cell_type": "code",
   "execution_count": 2,
   "id": "7359fa2a-0627-474a-a77c-96db43fb26e7",
   "metadata": {},
   "outputs": [
    {
     "name": "stdout",
     "output_type": "stream",
     "text": [
      "x가 y보다 큽니다.\n"
     ]
    }
   ],
   "source": [
    "if x > y:\n",
    "    print('x가 y보다 큽니다.')"
   ]
  },
  {
   "cell_type": "code",
   "execution_count": 3,
   "id": "a4732051-385a-4a1a-ae65-bc3a90e1296f",
   "metadata": {},
   "outputs": [],
   "source": [
    "x,y = 5,10"
   ]
  },
  {
   "cell_type": "code",
   "execution_count": 4,
   "id": "e94bee4b-893f-40eb-83ca-3081f57c2f3a",
   "metadata": {},
   "outputs": [
    {
     "name": "stdout",
     "output_type": "stream",
     "text": [
      "y가 x보다 큽니다.\n"
     ]
    }
   ],
   "source": [
    "if x > y:\n",
    "    print('x가 y보다 큽니다.')\n",
    "else:\n",
    "    print('y가 x보다 큽니다.')"
   ]
  },
  {
   "cell_type": "code",
   "execution_count": 5,
   "id": "924b590f-5d46-44d2-918a-02e123fcc33e",
   "metadata": {},
   "outputs": [],
   "source": [
    "x,y = 10,10"
   ]
  },
  {
   "cell_type": "code",
   "execution_count": 6,
   "id": "d8799b72-de32-4982-8a80-a36cba6e3443",
   "metadata": {},
   "outputs": [
    {
     "name": "stdout",
     "output_type": "stream",
     "text": [
      "x와 y가 같습니다.\n"
     ]
    }
   ],
   "source": [
    "if x > y:\n",
    "    print('x가 y보다 큽니다.')\n",
    "elif x ==y: \n",
    "    print('x와 y가 같습니다.')\n",
    "elif x < y:\n",
    "    print('x가 y보다 작습니다.')"
   ]
  },
  {
   "cell_type": "code",
   "execution_count": 14,
   "id": "c2992678-27fa-4882-bc12-a2fcdce4fa5f",
   "metadata": {},
   "outputs": [],
   "source": [
    "score = 80"
   ]
  },
  {
   "cell_type": "code",
   "execution_count": 15,
   "id": "d8b5e84f-cd6f-4407-970d-0d6957b2d8c8",
   "metadata": {},
   "outputs": [
    {
     "name": "stdout",
     "output_type": "stream",
     "text": [
      "B\n"
     ]
    }
   ],
   "source": [
    "if score >= 90:\n",
    "    print('A')\n",
    "elif score >= 80:\n",
    "    print('B')\n",
    "elif score >= 70:\n",
    "    print('C')\n",
    "elif score >= 60:\n",
    "    print('D')\n",
    "else:\n",
    "    print('F')"
   ]
  },
  {
   "cell_type": "code",
   "execution_count": 16,
   "id": "1c8cf00f-4be3-43ef-b6a4-8f4a6c2949e8",
   "metadata": {},
   "outputs": [
    {
     "name": "stdout",
     "output_type": "stream",
     "text": [
      "a는 True입니다\n",
      "True End...\n",
      "False end\n"
     ]
    }
   ],
   "source": [
    "a = True\n",
    "if a:\n",
    "    print('a는 True입니다')\n",
    "    print('True End...')\n",
    "else:\n",
    "    print('a는 False입니다')\n",
    "print('False end')"
   ]
  },
  {
   "cell_type": "code",
   "execution_count": 18,
   "id": "b436252d-dcc4-4841-b8f7-c8ceab4258f7",
   "metadata": {},
   "outputs": [
    {
     "name": "stdout",
     "output_type": "stream",
     "text": [
      "a는 True입니다\n",
      "True End...\n"
     ]
    }
   ],
   "source": [
    "if a:\n",
    "    print('a는 True입니다')\n",
    "    print('True End...')\n",
    "else:\n",
    "    print('a는 False입니다')\n",
    "    print('False end')"
   ]
  }
 ],
 "metadata": {
  "kernelspec": {
   "display_name": "Python 3",
   "language": "python",
   "name": "python3"
  },
  "language_info": {
   "codemirror_mode": {
    "name": "ipython",
    "version": 3
   },
   "file_extension": ".py",
   "mimetype": "text/x-python",
   "name": "python",
   "nbconvert_exporter": "python",
   "pygments_lexer": "ipython3",
   "version": "3.8.8"
  }
 },
 "nbformat": 4,
 "nbformat_minor": 5
}
