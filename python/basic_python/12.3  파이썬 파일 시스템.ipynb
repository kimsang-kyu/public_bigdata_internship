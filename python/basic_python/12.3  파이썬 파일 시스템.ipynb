{
 "cells": [
  {
   "cell_type": "code",
   "execution_count": 2,
   "id": "bb289daa-1ebb-4e1c-b88b-d9b196a868c3",
   "metadata": {},
   "outputs": [],
   "source": [
    "import os\n",
    "\n",
    "file_list = os.listdir('.')"
   ]
  },
  {
   "cell_type": "code",
   "execution_count": 3,
   "id": "cb9393ef-1e5d-40e1-862f-fd095cb31ce0",
   "metadata": {},
   "outputs": [],
   "source": [
    "file_ipynb = [ f for f in file_list if f.endswith('.ipynb')]"
   ]
  },
  {
   "cell_type": "code",
   "execution_count": 4,
   "id": "4ec4ad34-1c7c-435b-9ed6-5f2317f50a7b",
   "metadata": {},
   "outputs": [
    {
     "data": {
      "text/plain": [
       "['10.1 파이썬 함수.ipynb',\n",
       " '10.2 사용자 정의 함수.ipynb',\n",
       " '11.1 파이썬 모듈.ipynb',\n",
       " '11.2 파이썬 모듈 활용.ipynb',\n",
       " '12.1 파이썬 파일 입력.ipynb',\n",
       " '12.2 파이썬 파일 출력.ipynb',\n",
       " '12.3  파이썬 파일 시스템.ipynb',\n",
       " '7.1 셋.ipynb',\n",
       " '7.2 집합연산.ipynb',\n",
       " '7.3 딕셔너리.ipynb',\n",
       " '8.1 비교, 논리 연산자.ipynb',\n",
       " '8.2조건문.ipynb',\n",
       " '8.3 중첩 복합문.ipynb',\n",
       " '9.1 for 반복문.ipynb',\n",
       " '9.2 while 반복문.ipynb',\n",
       " '9.3 리스트 컴프리헨션.ipynb']"
      ]
     },
     "execution_count": 4,
     "metadata": {},
     "output_type": "execute_result"
    }
   ],
   "source": [
    "file_ipynb"
   ]
  },
  {
   "cell_type": "code",
   "execution_count": 5,
   "id": "93e363ba-e3e6-46a1-a4ed-1b5d31e70658",
   "metadata": {},
   "outputs": [
    {
     "data": {
      "text/plain": [
       "'G:\\\\python\\\\7.7'"
      ]
     },
     "execution_count": 5,
     "metadata": {},
     "output_type": "execute_result"
    }
   ],
   "source": [
    "os.getcwd()"
   ]
  },
  {
   "cell_type": "code",
   "execution_count": 7,
   "id": "91e9f613-f3ea-4551-bf65-dbdf295795d6",
   "metadata": {},
   "outputs": [],
   "source": [
    "os.mkdir('test') #디렉토리 만들기 "
   ]
  },
  {
   "cell_type": "code",
   "execution_count": 8,
   "id": "d5c79242-572e-4b69-96fa-ee8e0a388b96",
   "metadata": {},
   "outputs": [
    {
     "data": {
      "text/plain": [
       "'.\\\\test'"
      ]
     },
     "execution_count": 8,
     "metadata": {},
     "output_type": "execute_result"
    }
   ],
   "source": [
    "os.path.join('.','test')"
   ]
  },
  {
   "cell_type": "code",
   "execution_count": 9,
   "id": "b1d0d264-fd80-48a4-ba7d-eb0e4590f456",
   "metadata": {},
   "outputs": [
    {
     "data": {
      "text/plain": [
       "'G:\\\\python\\\\7.7\\\\hello_write.txt'"
      ]
     },
     "execution_count": 9,
     "metadata": {},
     "output_type": "execute_result"
    }
   ],
   "source": [
    "os.path.abspath('hello_write.txt')"
   ]
  },
  {
   "cell_type": "code",
   "execution_count": 10,
   "id": "6925df26-d011-478d-9a00-c112c5114c91",
   "metadata": {},
   "outputs": [
    {
     "data": {
      "text/plain": [
       "True"
      ]
     },
     "execution_count": 10,
     "metadata": {},
     "output_type": "execute_result"
    }
   ],
   "source": [
    "os.path.isfile('hello_write.txt')"
   ]
  },
  {
   "cell_type": "code",
   "execution_count": 11,
   "id": "ce195b63-d8d0-429f-b2c2-3968f62596ec",
   "metadata": {},
   "outputs": [
    {
     "data": {
      "text/plain": [
       "False"
      ]
     },
     "execution_count": 11,
     "metadata": {},
     "output_type": "execute_result"
    }
   ],
   "source": [
    "os.path.isdir('hello_write.ext')"
   ]
  },
  {
   "cell_type": "code",
   "execution_count": 12,
   "id": "8eecb0f5-235e-4281-a5e6-5dbb7c9e6387",
   "metadata": {},
   "outputs": [
    {
     "data": {
      "text/plain": [
       "False"
      ]
     },
     "execution_count": 12,
     "metadata": {},
     "output_type": "execute_result"
    }
   ],
   "source": [
    "os.path.isfile('test')"
   ]
  },
  {
   "cell_type": "code",
   "execution_count": 13,
   "id": "89b5c601-3453-47e1-9b54-1b5395e69399",
   "metadata": {},
   "outputs": [
    {
     "data": {
      "text/plain": [
       "True"
      ]
     },
     "execution_count": 13,
     "metadata": {},
     "output_type": "execute_result"
    }
   ],
   "source": [
    "os.path.isdir('test')"
   ]
  },
  {
   "cell_type": "code",
   "execution_count": 14,
   "id": "5ae5087b-5109-488f-be75-b99f2e62af03",
   "metadata": {},
   "outputs": [
    {
     "data": {
      "text/plain": [
       "('G:\\\\python\\\\7.7', 'hello_write.txt')"
      ]
     },
     "execution_count": 14,
     "metadata": {},
     "output_type": "execute_result"
    }
   ],
   "source": [
    "os.path.split(os.path.abspath('hello_write.txt')) #디렉토리명 파일명 분리"
   ]
  },
  {
   "cell_type": "code",
   "execution_count": 15,
   "id": "6790312b-78ac-43c4-8d28-68ad7b9fc6bb",
   "metadata": {},
   "outputs": [
    {
     "data": {
      "text/plain": [
       "('hello_write', '.txt')"
      ]
     },
     "execution_count": 15,
     "metadata": {},
     "output_type": "execute_result"
    }
   ],
   "source": [
    "os.path.splitext('hello_write.txt') # 파일명 확장자 분리"
   ]
  }
 ],
 "metadata": {
  "kernelspec": {
   "display_name": "Python 3",
   "language": "python",
   "name": "python3"
  },
  "language_info": {
   "codemirror_mode": {
    "name": "ipython",
    "version": 3
   },
   "file_extension": ".py",
   "mimetype": "text/x-python",
   "name": "python",
   "nbconvert_exporter": "python",
   "pygments_lexer": "ipython3",
   "version": "3.8.8"
  }
 },
 "nbformat": 4,
 "nbformat_minor": 5
}
