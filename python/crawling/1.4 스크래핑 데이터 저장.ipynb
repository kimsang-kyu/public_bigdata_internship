{
 "cells": [
  {
   "cell_type": "code",
   "execution_count": 3,
   "id": "fcab6095-c839-4713-8670-aea8fea477da",
   "metadata": {},
   "outputs": [],
   "source": [
    "#2.6.1.1~3 실습\n",
    "import csv"
   ]
  },
  {
   "cell_type": "code",
   "execution_count": 4,
   "id": "c04c47ff-8365-471b-8448-0a62675f9196",
   "metadata": {},
   "outputs": [],
   "source": [
    "# file open, newline=''으로 개행문자 지정\n",
    "with open('top_cities.csv', 'w', newline='') as f:\n",
    "    # csv.writer는 파일 객체를 매개변수로 지정\n",
    "    writer = csv.writer(f)  \n",
    "    # 첫 번째 줄에는 헤더를 작성합니다.\n",
    "    writer.writerow(['rank', 'city', 'population'])  \n",
    "    # writerows()에 리스트를 전달하면 여러 개의 값을 출력\n",
    "    writer.writerows([\n",
    "        [1, '상하이', 24150000],\n",
    "        [2, '카라치', 23500000],\n",
    "        [3, '베이징', 21516000],\n",
    "        [4, '텐진', 14722100],\n",
    "        [5, '이스탄불', 14160467],\n",
    "    ])"
   ]
  },
  {
   "cell_type": "code",
   "execution_count": 5,
   "id": "e94f275e-3c46-4116-afe1-3653fa746bdf",
   "metadata": {},
   "outputs": [],
   "source": [
    "with open('top_cities.csv', 'w', newline='') as f:\n",
    "    # 첫 번째 매개변수에 파일 객체\n",
    "    # 두 번째 매개변수에 필드명 리스트를 지정\n",
    "    writer = csv.DictWriter(f, ['rank', 'city', 'population'])\n",
    "      # 첫 번째 줄에 헤더를 입력\n",
    "    writer.writeheader()\n",
    "    # writerows()로 여러 개의 데이터를 딕셔너리 형태로 작성\n",
    "    writer.writerows([\n",
    "        {'rank': 1, 'city': '상하이', 'population': 24150000},\n",
    "        {'rank': 2, 'city': '카라치', 'population': 23500000},\n",
    "        {'rank': 3, 'city': '베이징', 'population': 21516000},\n",
    "        {'rank': 4, 'city': '텐진', 'population': 14722100},\n",
    "        {'rank': 5, 'city': '이스탄불', 'population': 14160467},\n",
    "    ])"
   ]
  },
  {
   "cell_type": "code",
   "execution_count": 6,
   "id": "5897f794-f583-4fc1-a98b-7d50e45052a3",
   "metadata": {},
   "outputs": [],
   "source": [
    "with open('top_cities.csv', 'w', newline='', encoding='utf-8') as f:\n",
    "    # 첫 번째 매개변수에 파일 객체\n",
    "    # 두 번째 매개변수에 필드명 리스트를 지정\n",
    "    writer = csv.DictWriter(f, ['rank', 'city', 'population'])\n",
    "      # 첫 번째 줄에 헤더를 입력\n",
    "    writer.writeheader()\n",
    "    # writerows()로 여러 개의 데이터를 딕셔너리 형태로 작성\n",
    "    writer.writerows([\n",
    "        {'rank': 1, 'city': '상하이', 'population': 24150000},\n",
    "        {'rank': 2, 'city': '카라치', 'population': 23500000},\n",
    "        {'rank': 3, 'city': '베이징', 'population': 21516000},\n",
    "        {'rank': 4, 'city': '텐진', 'population': 14722100},\n",
    "        {'rank': 5, 'city': '이스탄불', 'population': 14160467},\n",
    "    ])"
   ]
  },
  {
   "cell_type": "code",
   "execution_count": 7,
   "id": "46dabc88-4004-4b12-834f-05a3f736b500",
   "metadata": {},
   "outputs": [],
   "source": [
    "import chardet"
   ]
  },
  {
   "cell_type": "code",
   "execution_count": 8,
   "id": "c368aa68-ce54-4682-bda9-16198faea832",
   "metadata": {},
   "outputs": [],
   "source": [
    "char_dic = chardet.detect(open('top_cities.csv', 'rb').read())"
   ]
  },
  {
   "cell_type": "code",
   "execution_count": 9,
   "id": "ff485439-9f4d-4dd8-8a49-6f6ea0e55a30",
   "metadata": {},
   "outputs": [
    {
     "data": {
      "text/plain": [
       "'utf-8'"
      ]
     },
     "execution_count": 9,
     "metadata": {},
     "output_type": "execute_result"
    }
   ],
   "source": [
    "char_dic['encoding']"
   ]
  },
  {
   "cell_type": "code",
   "execution_count": null,
   "id": "4d43414f-9ec7-4068-9b49-358aac48c35e",
   "metadata": {},
   "outputs": [],
   "source": []
  },
  {
   "cell_type": "code",
   "execution_count": 11,
   "id": "ea11a5b1-d418-4f96-97d9-b821a51b8c8d",
   "metadata": {},
   "outputs": [],
   "source": [
    "#2.6.2.1~3.1\n",
    "import json\n",
    "import pandas as pd\n",
    "import sqlite3\n",
    "from pandas.io import sql\n",
    "import os"
   ]
  },
  {
   "cell_type": "code",
   "execution_count": 12,
   "id": "03babf23-7051-4af0-83cc-6d65b39990ac",
   "metadata": {},
   "outputs": [],
   "source": [
    "cities = [ \n",
    "{'rank': 1, 'city':'상하이', 'population': 24150000},\n",
    "{'rank': 2, 'city':'카라치', 'population': 23500000},\n",
    "{'rank': 3, 'city':'베이징', 'population': 21516000},\n",
    "{'rank': 4, 'city':'텐진', 'population': 14722100}, \n",
    "{'rank': 5, 'city':'이스탄불', 'population':14160467},\n",
    "]"
   ]
  },
  {
   "cell_type": "code",
   "execution_count": 13,
   "id": "b70d5783-0658-469d-9106-f712c0acbd08",
   "metadata": {},
   "outputs": [],
   "source": [
    "with open('top_cities.json', 'w') as fw:\n",
    "    json.dump(cities, fw)"
   ]
  },
  {
   "cell_type": "code",
   "execution_count": 14,
   "id": "56eff5b0-d393-4dad-af33-0b964708c70e",
   "metadata": {},
   "outputs": [
    {
     "name": "stdout",
     "output_type": "stream",
     "text": [
      "[{'rank': 1, 'city': '상하이', 'population': 24150000}, {'rank': 2, 'city': '카라치', 'population': 23500000}, {'rank': 3, 'city': '베이징', 'population': 21516000}, {'rank': 4, 'city': '텐진', 'population': 14722100}, {'rank': 5, 'city': '이스탄불', 'population': 14160467}]\n"
     ]
    }
   ],
   "source": [
    "with open('top_cities.json', 'r') as fr:\n",
    "    json_file = json.load(fr)\n",
    "    print(json_file)"
   ]
  },
  {
   "cell_type": "code",
   "execution_count": null,
   "id": "b264569b-e04a-4040-bea7-6bf83976627f",
   "metadata": {},
   "outputs": [],
   "source": []
  },
  {
   "cell_type": "code",
   "execution_count": 15,
   "id": "efc52fe6-48ab-4f35-879d-fcfe8bed1f81",
   "metadata": {},
   "outputs": [],
   "source": [
    "DB_NAME = 'top_cities.db'\n",
    "TABLE_NAME = 'TOP_CITIES'"
   ]
  },
  {
   "cell_type": "code",
   "execution_count": 16,
   "id": "71b96ed1-d875-4776-870e-3d33c98d31d4",
   "metadata": {},
   "outputs": [],
   "source": [
    "def db_save(df, db_name, table_name):\n",
    "    with sqlite3.connect(db_name) as con:\n",
    "        try:\n",
    "            df.to_sql(name = table_name, con = con, index = False, if_exists='append') \n",
    "            #if_exists : {'fail', 'replace', 'append'} default : fail\n",
    "        except Exception as e:\n",
    "            print(str(e))\n",
    "        print(len(df), '건 저장완료..')"
   ]
  },
  {
   "cell_type": "code",
   "execution_count": 17,
   "id": "2cd75a0c-6954-4912-be0d-74fe1b6b6ef1",
   "metadata": {},
   "outputs": [],
   "source": [
    "def db_select(db_name, table_name):\n",
    "    with sqlite3.connect(db_name) as con: \n",
    "        try:\n",
    "            query = 'SELECT * FROM {}'.format(table_name)\n",
    "            df = pd.read_sql(query, con = con)\n",
    "        except Exception as e:\n",
    "            print(str(e)) \n",
    "        return df  "
   ]
  },
  {
   "cell_type": "code",
   "execution_count": 18,
   "id": "f2a48a2d-bc92-4cad-b496-307dbadaa807",
   "metadata": {},
   "outputs": [],
   "source": [
    "def db_delete(db_name, table_name):\n",
    "    with sqlite3.connect(db_name) as con: \n",
    "        try:\n",
    "            cur = con.cursor()\n",
    "            sql = 'DELETE FROM {}'.format(table_name)\n",
    "            cur.execute(sql)\n",
    "        except Exception as e:\n",
    "            print(str(e)) "
   ]
  },
  {
   "cell_type": "code",
   "execution_count": 19,
   "id": "68196333-7649-46d7-91f4-deb08d86277d",
   "metadata": {},
   "outputs": [],
   "source": [
    "# db_delete(DB_NAME, TABLE_NAME)"
   ]
  },
  {
   "cell_type": "code",
   "execution_count": 20,
   "id": "59fba1f4-56d3-4735-bf34-32138627b9df",
   "metadata": {},
   "outputs": [
    {
     "name": "stdout",
     "output_type": "stream",
     "text": [
      "5 건 저장완료..\n"
     ]
    }
   ],
   "source": [
    "top_cites = pd.read_csv('top_cities.csv')\n",
    "db_save(top_cites, DB_NAME, TABLE_NAME)"
   ]
  },
  {
   "cell_type": "code",
   "execution_count": 21,
   "id": "5178d713-1ce3-4a4a-8b1a-bffe70c068f2",
   "metadata": {},
   "outputs": [
    {
     "data": {
      "text/html": [
       "<div>\n",
       "<style scoped>\n",
       "    .dataframe tbody tr th:only-of-type {\n",
       "        vertical-align: middle;\n",
       "    }\n",
       "\n",
       "    .dataframe tbody tr th {\n",
       "        vertical-align: top;\n",
       "    }\n",
       "\n",
       "    .dataframe thead th {\n",
       "        text-align: right;\n",
       "    }\n",
       "</style>\n",
       "<table border=\"1\" class=\"dataframe\">\n",
       "  <thead>\n",
       "    <tr style=\"text-align: right;\">\n",
       "      <th></th>\n",
       "      <th>rank</th>\n",
       "      <th>city</th>\n",
       "      <th>population</th>\n",
       "    </tr>\n",
       "  </thead>\n",
       "  <tbody>\n",
       "    <tr>\n",
       "      <th>0</th>\n",
       "      <td>1</td>\n",
       "      <td>상하이</td>\n",
       "      <td>24150000</td>\n",
       "    </tr>\n",
       "    <tr>\n",
       "      <th>1</th>\n",
       "      <td>2</td>\n",
       "      <td>카라치</td>\n",
       "      <td>23500000</td>\n",
       "    </tr>\n",
       "    <tr>\n",
       "      <th>2</th>\n",
       "      <td>3</td>\n",
       "      <td>베이징</td>\n",
       "      <td>21516000</td>\n",
       "    </tr>\n",
       "    <tr>\n",
       "      <th>3</th>\n",
       "      <td>4</td>\n",
       "      <td>텐진</td>\n",
       "      <td>14722100</td>\n",
       "    </tr>\n",
       "    <tr>\n",
       "      <th>4</th>\n",
       "      <td>5</td>\n",
       "      <td>이스탄불</td>\n",
       "      <td>14160467</td>\n",
       "    </tr>\n",
       "  </tbody>\n",
       "</table>\n",
       "</div>"
      ],
      "text/plain": [
       "   rank  city  population\n",
       "0     1   상하이    24150000\n",
       "1     2   카라치    23500000\n",
       "2     3   베이징    21516000\n",
       "3     4    텐진    14722100\n",
       "4     5  이스탄불    14160467"
      ]
     },
     "execution_count": 21,
     "metadata": {},
     "output_type": "execute_result"
    }
   ],
   "source": [
    "df = db_select(DB_NAME, TABLE_NAME)\n",
    "df"
   ]
  },
  {
   "cell_type": "code",
   "execution_count": null,
   "id": "9e4821da-2fd3-4b28-b6ca-21be6666d287",
   "metadata": {},
   "outputs": [],
   "source": []
  },
  {
   "cell_type": "code",
   "execution_count": null,
   "id": "4c78d568-cbd2-4fb3-86c8-a1d6eab41aee",
   "metadata": {},
   "outputs": [],
   "source": []
  }
 ],
 "metadata": {
  "kernelspec": {
   "display_name": "Python 3",
   "language": "python",
   "name": "python3"
  },
  "language_info": {
   "codemirror_mode": {
    "name": "ipython",
    "version": 3
   },
   "file_extension": ".py",
   "mimetype": "text/x-python",
   "name": "python",
   "nbconvert_exporter": "python",
   "pygments_lexer": "ipython3",
   "version": "3.8.8"
  }
 },
 "nbformat": 4,
 "nbformat_minor": 5
}
