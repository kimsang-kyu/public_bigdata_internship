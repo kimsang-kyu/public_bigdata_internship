{
 "cells": [
  {
   "cell_type": "code",
   "execution_count": 1,
   "id": "f95e1338-d6ef-4d00-91e2-e5aeab2ee67a",
   "metadata": {},
   "outputs": [
    {
     "name": "stdout",
     "output_type": "stream",
     "text": [
      "Collecting selenium\n",
      "  Downloading selenium-3.141.0-py2.py3-none-any.whl (904 kB)\n",
      "Requirement already satisfied: urllib3 in c:\\users\\user\\anaconda3\\lib\\site-packages (from selenium) (1.26.4)\n",
      "Installing collected packages: selenium\n",
      "Successfully installed selenium-3.141.0\n",
      "Note: you may need to restart the kernel to use updated packages.\n"
     ]
    }
   ],
   "source": [
    "#1. pip install  \n",
    "#pip install selenium\n",
    "#2. https://www.selenium.dev/downloads/ standard downlaad\n",
    "#3. https://sites.google.com/a/chromium.org/chromedriver/downloads  chromedriver"
   ]
  },
  {
   "cell_type": "code",
   "execution_count": 75,
   "id": "8ee387a0-91d2-453d-bdf4-dbac6a805df8",
   "metadata": {},
   "outputs": [],
   "source": [
    "from selenium.webdriver import Chrome\n",
    "import time\n",
    "import sqlite3\n",
    "from pandas.io import sql\n",
    "import os\n",
    "import pandas as pd"
   ]
  },
  {
   "cell_type": "code",
   "execution_count": 76,
   "id": "9c97285f-7819-4f87-811c-bd702289081f",
   "metadata": {},
   "outputs": [],
   "source": [
    "from selenium import webdriver\n",
    "\n",
    "options = webdriver.ChromeOptions() \n",
    "options.add_argument(\"--start-maximized\"); #시작화면 최대로 키우는 옵션\n",
    "\n",
    "browser = webdriver.Chrome('chromedriver', options=options) #options가 반영함 \n",
    "#browser = webdriver.Chrome('C:/경로/chromedriver.exe', options=options)"
   ]
  },
  {
   "cell_type": "code",
   "execution_count": 77,
   "id": "1a837f2f-9e7e-440d-902f-8ab497fe1b6a",
   "metadata": {},
   "outputs": [],
   "source": [
    "browser.get('https://www.data.go.kr/') #이 사이트로 이동한다.\n",
    "browser.implicitly_wait(5) #묵시적으로 기다려라 why? 네트워크 속도, 시간 지연으로 인해 기다렸다가 수행함"
   ]
  },
  {
   "cell_type": "code",
   "execution_count": 78,
   "id": "183531c6-6e70-4cfa-8a62-ee69e5954eec",
   "metadata": {},
   "outputs": [],
   "source": [
    "window_handles = browser.window_handles #핸들리스트"
   ]
  },
  {
   "cell_type": "code",
   "execution_count": 79,
   "id": "1dba3ba3-dd81-4bd2-8fca-3672bfa0e96d",
   "metadata": {},
   "outputs": [],
   "source": [
    "####################### login click\n",
    "#//*[@id=\"header\"]/div/div/div/div[2]/div/a[1]\n",
    "browser.find_element_by_xpath('//*[@id=\"header\"]/div/div/div/div[2]/div/a[1]').click() #클릭까지함\n",
    "browser.implicitly_wait(5) "
   ]
  },
  {
   "cell_type": "code",
   "execution_count": 80,
   "id": "e6d18fb8-235e-4f45-b8d9-8b54d5a930de",
   "metadata": {},
   "outputs": [],
   "source": [
    "####################### login\n",
    "#//*[@id=\"mberId\"]\n",
    "browser.find_element_by_xpath('//*[@id=\"mberId\"]').send_keys('abc9357') #아이디 \n",
    "#//*[@id=\"pswrd\"]\n",
    "browser.find_element_by_xpath('//*[@id=\"pswrd\"]').send_keys('U4Sdvy4ArH^2') #비번\n",
    "#//*[@id=\"loginVo\"]/div[2]/div[2]/div[2]/div/div[1]/button\n",
    "browser.find_element_by_xpath('//*[@id=\"loginVo\"]/div[2]/div[2]/div[2]/div/div[1]/button').click()\n",
    "browser.implicitly_wait(5)"
   ]
  },
  {
   "cell_type": "code",
   "execution_count": 54,
   "id": "8eeb9d7c-c3e5-4a0f-9ee4-5ca8a6d1cc8b",
   "metadata": {},
   "outputs": [],
   "source": [
    "browser.find_element_by_xpath('//*[@id=\"layer_popup_info_1\"]/div[1]/a').click()\n",
    "browser.find_element_by_xpath('//*[@id=\"layer_popup_info_0\"]/div[1]/a').click()\n",
    "#//*[@id=\"layer_popup_info_0\"]/div[1]/a\n",
    "#//*[@id=\"layer_popup_info_1\"]/div[1]/a\n",
    "#https://catloaf.tistory.com/m/19"
   ]
  },
  {
   "cell_type": "code",
   "execution_count": 56,
   "id": "c970a577-bb16-4564-8235-e91d8d1dc721",
   "metadata": {
    "tags": []
   },
   "outputs": [],
   "source": [
    "#//*[@id=\"M000400_pc\"]/a\n",
    "browser.find_element_by_xpath('//*[@id=\"M000400_pc\"]/a').click()"
   ]
  },
  {
   "cell_type": "code",
   "execution_count": 57,
   "id": "2d10ebe9-04c4-4347-857e-020d3938af89",
   "metadata": {},
   "outputs": [],
   "source": [
    "#//*[@id=\"M000402_pc\"]/a\n",
    "browser.find_element_by_xpath('//*[@id=\"M000402_pc\"]/a').click()"
   ]
  },
  {
   "cell_type": "code",
   "execution_count": 59,
   "id": "034b4421-6cb0-48b3-8381-b50cb01b7618",
   "metadata": {},
   "outputs": [],
   "source": [
    "def db_save(ARTICLE_LIST):\n",
    "    with sqlite3.connect(os.path.join('.','sqliteDB')) as con: # sqlite DB 파일이 존재하지 않는 경우 파일생성\n",
    "        try:\n",
    "            ARTICLE_LIST.to_sql(name = 'ARTICLE_LIST', con = con, index = False, if_exists='append') \n",
    "            #if_exists : {'fail', 'replace', 'append'} default : fail\n",
    "        except Exception as e:\n",
    "            print(str(e))\n",
    "        print(len(ARTICLE_LIST), '건 저장완료..')"
   ]
  },
  {
   "cell_type": "code",
   "execution_count": 60,
   "id": "6c770896-9275-4c25-8fac-a08d926e989f",
   "metadata": {},
   "outputs": [
    {
     "name": "stdout",
     "output_type": "stream",
     "text": [
      "10 건 저장완료..\n"
     ]
    }
   ],
   "source": [
    "trs = browser.find_elements_by_xpath('//*[@id=\"searchVO\"]/div[5]/table/tbody/tr')\n",
    "df_list = []\n",
    "for tr in trs: #한개의 tr은 5개의 td로 구성되어 있음\n",
    "    df = pd.DataFrame({\n",
    "            'NO': [tr.find_element_by_xpath('td[1]').text],\n",
    "            'TITLE': [tr.find_element_by_xpath('td[2]').text],\n",
    "            'IQRY': [tr.find_element_by_xpath('td[3]').text],\n",
    "            'REGDT': [tr.find_element_by_xpath('td[4]').text],\n",
    "            'CHGDT': [tr.find_element_by_xpath('td[5]').text],\n",
    "        })\n",
    "    df_list.append(df)\n",
    "    \n",
    "ARTICLE_LIST = pd.concat(df_list)\n",
    "db_save(ARTICLE_LIST)"
   ]
  },
  {
   "cell_type": "code",
   "execution_count": 68,
   "id": "bd43cda2-bf37-4fc3-a841-0cbebfd148b3",
   "metadata": {},
   "outputs": [
    {
     "data": {
      "text/html": [
       "<div>\n",
       "<style scoped>\n",
       "    .dataframe tbody tr th:only-of-type {\n",
       "        vertical-align: middle;\n",
       "    }\n",
       "\n",
       "    .dataframe tbody tr th {\n",
       "        vertical-align: top;\n",
       "    }\n",
       "\n",
       "    .dataframe thead th {\n",
       "        text-align: right;\n",
       "    }\n",
       "</style>\n",
       "<table border=\"1\" class=\"dataframe\">\n",
       "  <thead>\n",
       "    <tr style=\"text-align: right;\">\n",
       "      <th></th>\n",
       "      <th>NO</th>\n",
       "      <th>TITLE</th>\n",
       "      <th>IQRY</th>\n",
       "      <th>REGDT</th>\n",
       "      <th>CHGDT</th>\n",
       "    </tr>\n",
       "  </thead>\n",
       "  <tbody>\n",
       "    <tr>\n",
       "      <th>0</th>\n",
       "      <td>756</td>\n",
       "      <td>기타 범정부 데이터 표준용어통합 도구 파일첨부</td>\n",
       "      <td>382</td>\n",
       "      <td>2021-07-05</td>\n",
       "      <td>2021-07-05</td>\n",
       "    </tr>\n",
       "  </tbody>\n",
       "</table>\n",
       "</div>"
      ],
      "text/plain": [
       "    NO                      TITLE IQRY       REGDT       CHGDT\n",
       "0  756  기타 범정부 데이터 표준용어통합 도구 파일첨부  382  2021-07-05  2021-07-05"
      ]
     },
     "execution_count": 68,
     "metadata": {},
     "output_type": "execute_result"
    }
   ],
   "source": [
    "ARTICLE_LIST.head(1)"
   ]
  },
  {
   "cell_type": "code",
   "execution_count": 69,
   "id": "11338b68-8290-48bf-88c3-ea91d4831d29",
   "metadata": {},
   "outputs": [],
   "source": [
    "browser.find_element_by_xpath('//*[@id=\"searchVO\"]/div[5]/table/tbody/tr[1]/td[2]/a').click()\n",
    "browser.implicitly_wait(3)"
   ]
  },
  {
   "cell_type": "code",
   "execution_count": 70,
   "id": "ec6c3a65-b465-4d86-b538-0a02ab51852d",
   "metadata": {},
   "outputs": [],
   "source": [
    "browser.find_element_by_xpath('//*[@id=\"recsroomDetail\"]/div[2]/div[4]/div/a').click()\n",
    "time.sleep(10)"
   ]
  },
  {
   "cell_type": "code",
   "execution_count": 71,
   "id": "611f0759-6995-4837-a3b0-a2ff3b4c9eb0",
   "metadata": {},
   "outputs": [],
   "source": [
    "browser.close()"
   ]
  },
  {
   "cell_type": "code",
   "execution_count": null,
   "id": "76356609-a9f3-436d-a27d-e25b3fb86d3a",
   "metadata": {},
   "outputs": [],
   "source": []
  },
  {
   "cell_type": "markdown",
   "id": "d11c76e9-085d-4762-8fc6-ccbff73ad7f9",
   "metadata": {},
   "source": [
    "# selenium_headless"
   ]
  },
  {
   "cell_type": "code",
   "execution_count": 7,
   "id": "d9d9c758-218f-43f4-8c35-39254ba16839",
   "metadata": {},
   "outputs": [],
   "source": [
    "from selenium.webdriver import Chrome\n",
    "import time\n",
    "import sqlite3\n",
    "from pandas.io import sql\n",
    "import os\n",
    "import pandas as pd"
   ]
  },
  {
   "cell_type": "code",
   "execution_count": 8,
   "id": "6b6e39f5-7599-4f4a-962e-736af7b03d8f",
   "metadata": {},
   "outputs": [],
   "source": [
    "#브라우저를 열지않고 background에서 작업을 수행함\n",
    "from selenium import webdriver\n",
    "\n",
    "options = webdriver.ChromeOptions()\n",
    "options.add_argument('--headless')\n",
    "options.add_argument('--disable-gpu')\n",
    "options.add_argument('--window-size=1280x1024')\n",
    "\n",
    "browser = webdriver.Chrome('chromedriver', options=options)"
   ]
  },
  {
   "cell_type": "code",
   "execution_count": 9,
   "id": "35175cfc-6bef-4587-a380-a05131dbd05c",
   "metadata": {},
   "outputs": [],
   "source": [
    "browser.get('https://www.data.go.kr/') #이 사이트로 이동한다.\n",
    "browser.implicitly_wait(5) #묵시적으로 기다려라 why? 네트워크 속도, 시간 지연으로 인해 기다렸다가 수행함"
   ]
  },
  {
   "cell_type": "code",
   "execution_count": 10,
   "id": "9ae0c9b0-91b8-4860-bd6d-3cd994acdfa1",
   "metadata": {},
   "outputs": [],
   "source": [
    "window_handles = browser.window_handles #핸들리스트"
   ]
  },
  {
   "cell_type": "code",
   "execution_count": 11,
   "id": "a57526fe-777a-4e92-bf1c-bb03d773f73a",
   "metadata": {},
   "outputs": [],
   "source": [
    "####################### login click\n",
    "#//*[@id=\"header\"]/div/div/div/div[2]/div/a[1]\n",
    "browser.find_element_by_xpath('//*[@id=\"header\"]/div/div/div/div[2]/div/a[1]').click() #클릭까지함\n",
    "browser.implicitly_wait(5) "
   ]
  },
  {
   "cell_type": "code",
   "execution_count": 12,
   "id": "64a9e15b-d495-48e3-9312-2bb7a31f7e5c",
   "metadata": {},
   "outputs": [],
   "source": [
    "####################### login\n",
    "#//*[@id=\"mberId\"]\n",
    "browser.find_element_by_xpath('//*[@id=\"mberId\"]').send_keys('abc9357') #아이디 \n",
    "#//*[@id=\"pswrd\"]\n",
    "browser.find_element_by_xpath('//*[@id=\"pswrd\"]').send_keys('U4Sdvy4ArH^2') #비번\n",
    "#//*[@id=\"loginVo\"]/div[2]/div[2]/div[2]/div/div[1]/button\n",
    "browser.find_element_by_xpath('//*[@id=\"loginVo\"]/div[2]/div[2]/div[2]/div/div[1]/button').click()\n",
    "browser.implicitly_wait(5)"
   ]
  },
  {
   "cell_type": "code",
   "execution_count": 13,
   "id": "919b860c-9bef-497f-b8a8-2ddf94141b7f",
   "metadata": {},
   "outputs": [],
   "source": [
    "browser.find_element_by_xpath('//*[@id=\"layer_popup_info_1\"]/div[1]/a').click()\n",
    "browser.find_element_by_xpath('//*[@id=\"layer_popup_info_0\"]/div[1]/a').click()\n",
    "#//*[@id=\"layer_popup_info_0\"]/div[1]/a\n",
    "#//*[@id=\"layer_popup_info_1\"]/div[1]/a\n",
    "#https://catloaf.tistory.com/m/19"
   ]
  },
  {
   "cell_type": "code",
   "execution_count": 14,
   "id": "78385242-683d-497f-baf0-08356d5b13ba",
   "metadata": {
    "tags": []
   },
   "outputs": [],
   "source": [
    "#//*[@id=\"M000400_pc\"]/a\n",
    "browser.find_element_by_xpath('//*[@id=\"M000400_pc\"]/a').click()"
   ]
  },
  {
   "cell_type": "code",
   "execution_count": 15,
   "id": "279aee68-43cd-46e3-b23a-a5e0d9a58824",
   "metadata": {},
   "outputs": [],
   "source": [
    "#//*[@id=\"M000402_pc\"]/a\n",
    "browser.find_element_by_xpath('//*[@id=\"M000402_pc\"]/a').click()"
   ]
  },
  {
   "cell_type": "code",
   "execution_count": 16,
   "id": "693f6e5b-5220-4e9c-b638-90cae9e8b243",
   "metadata": {},
   "outputs": [],
   "source": [
    "def db_save(ARTICLE_LIST):\n",
    "    with sqlite3.connect(os.path.join('.','sqliteDB')) as con: # sqlite DB 파일이 존재하지 않는 경우 파일생성\n",
    "        try:\n",
    "            ARTICLE_LIST.to_sql(name = 'ARTICLE_LIST', con = con, index = False, if_exists='append') \n",
    "            #if_exists : {'fail', 'replace', 'append'} default : fail\n",
    "        except Exception as e:\n",
    "            print(str(e))\n",
    "        print(len(ARTICLE_LIST), '건 저장완료..')"
   ]
  },
  {
   "cell_type": "code",
   "execution_count": 17,
   "id": "3933eb25-36ca-427a-b47c-0bebad430829",
   "metadata": {},
   "outputs": [
    {
     "name": "stdout",
     "output_type": "stream",
     "text": [
      "10 건 저장완료..\n"
     ]
    }
   ],
   "source": [
    "trs = browser.find_elements_by_xpath('//*[@id=\"searchVO\"]/div[5]/table/tbody/tr')\n",
    "df_list = []\n",
    "for tr in trs: #한개의 tr은 5개의 td로 구성되어 있음\n",
    "    df = pd.DataFrame({\n",
    "            'NO': [tr.find_element_by_xpath('td[1]').text],\n",
    "            'TITLE': [tr.find_element_by_xpath('td[2]').text],\n",
    "            'IQRY': [tr.find_element_by_xpath('td[3]').text],\n",
    "            'REGDT': [tr.find_element_by_xpath('td[4]').text],\n",
    "            'CHGDT': [tr.find_element_by_xpath('td[5]').text],\n",
    "        })\n",
    "    df_list.append(df)\n",
    "    \n",
    "ARTICLE_LIST = pd.concat(df_list)\n",
    "db_save(ARTICLE_LIST)"
   ]
  },
  {
   "cell_type": "code",
   "execution_count": 20,
   "id": "c77f8c01-f9fd-4c1d-a2dd-77d8d8e5686d",
   "metadata": {},
   "outputs": [
    {
     "data": {
      "text/html": [
       "<div>\n",
       "<style scoped>\n",
       "    .dataframe tbody tr th:only-of-type {\n",
       "        vertical-align: middle;\n",
       "    }\n",
       "\n",
       "    .dataframe tbody tr th {\n",
       "        vertical-align: top;\n",
       "    }\n",
       "\n",
       "    .dataframe thead th {\n",
       "        text-align: right;\n",
       "    }\n",
       "</style>\n",
       "<table border=\"1\" class=\"dataframe\">\n",
       "  <thead>\n",
       "    <tr style=\"text-align: right;\">\n",
       "      <th></th>\n",
       "      <th>NO</th>\n",
       "      <th>TITLE</th>\n",
       "      <th>IQRY</th>\n",
       "      <th>REGDT</th>\n",
       "      <th>CHGDT</th>\n",
       "    </tr>\n",
       "  </thead>\n",
       "  <tbody>\n",
       "    <tr>\n",
       "      <th>0</th>\n",
       "      <td>756</td>\n",
       "      <td>기타 범정부 데이터 표준용어통합 도구 파일첨부</td>\n",
       "      <td>472</td>\n",
       "      <td>2021-07-05</td>\n",
       "      <td>2021-07-05</td>\n",
       "    </tr>\n",
       "    <tr>\n",
       "      <th>0</th>\n",
       "      <td>755</td>\n",
       "      <td>기타 개방데이터(파일) 진단·정비 도구 파일첨부</td>\n",
       "      <td>143</td>\n",
       "      <td>2021-07-05</td>\n",
       "      <td>2021-07-06</td>\n",
       "    </tr>\n",
       "    <tr>\n",
       "      <th>0</th>\n",
       "      <td>754</td>\n",
       "      <td>뉴스레터 [공공데이터 NOW] 공공데이터 뉴스레터 77호 파일첨부</td>\n",
       "      <td>212</td>\n",
       "      <td>2021-07-01</td>\n",
       "      <td>2021-07-01</td>\n",
       "    </tr>\n",
       "    <tr>\n",
       "      <th>0</th>\n",
       "      <td>753</td>\n",
       "      <td>교육&amp;이용안내 [국세청] 사업자등록 상태조회 서비스 오픈API 테스트 프로그램 파일첨부</td>\n",
       "      <td>1,057</td>\n",
       "      <td>2021-06-28</td>\n",
       "      <td>2021-07-12</td>\n",
       "    </tr>\n",
       "    <tr>\n",
       "      <th>0</th>\n",
       "      <td>750</td>\n",
       "      <td>법령(고시)&amp;지침 「공공기관의 데이터베이스 표준화 지침」 개정 고시 안내 파일첨부</td>\n",
       "      <td>520</td>\n",
       "      <td>2021-06-07</td>\n",
       "      <td>2021-07-09</td>\n",
       "    </tr>\n",
       "    <tr>\n",
       "      <th>0</th>\n",
       "      <td>749</td>\n",
       "      <td>기타 공공데이터 해외동향지 제26호(2020 EU 오픈데이터 성숙도 보고서 주요내용...</td>\n",
       "      <td>83</td>\n",
       "      <td>2021-06-04</td>\n",
       "      <td>2021-06-04</td>\n",
       "    </tr>\n",
       "    <tr>\n",
       "      <th>0</th>\n",
       "      <td>748</td>\n",
       "      <td>뉴스레터 [공공데이터 NOW] 공공데이터 뉴스레터 76호 파일첨부</td>\n",
       "      <td>358</td>\n",
       "      <td>2021-05-28</td>\n",
       "      <td>2021-05-28</td>\n",
       "    </tr>\n",
       "    <tr>\n",
       "      <th>0</th>\n",
       "      <td>747</td>\n",
       "      <td>기타 [공공데이터 활용기업 사례집] 디지털뉴딜 시대! 공공데이터 가치, 창업과 같이...</td>\n",
       "      <td>212</td>\n",
       "      <td>2021-05-24</td>\n",
       "      <td>2021-05-24</td>\n",
       "    </tr>\n",
       "    <tr>\n",
       "      <th>0</th>\n",
       "      <td>746</td>\n",
       "      <td>뉴스레터 [공공데이터 NOW] 뉴스레터 제 75호 파일첨부</td>\n",
       "      <td>418</td>\n",
       "      <td>2021-04-30</td>\n",
       "      <td>2021-04-30</td>\n",
       "    </tr>\n",
       "    <tr>\n",
       "      <th>0</th>\n",
       "      <td>744</td>\n",
       "      <td>뉴스레터 [공공데이터 NOW] 공공데이터 뉴스레터 74호 파일첨부</td>\n",
       "      <td>442</td>\n",
       "      <td>2021-03-31</td>\n",
       "      <td>2021-03-31</td>\n",
       "    </tr>\n",
       "  </tbody>\n",
       "</table>\n",
       "</div>"
      ],
      "text/plain": [
       "    NO                                              TITLE   IQRY       REGDT  \\\n",
       "0  756                          기타 범정부 데이터 표준용어통합 도구 파일첨부    472  2021-07-05   \n",
       "0  755                         기타 개방데이터(파일) 진단·정비 도구 파일첨부    143  2021-07-05   \n",
       "0  754               뉴스레터 [공공데이터 NOW] 공공데이터 뉴스레터 77호 파일첨부    212  2021-07-01   \n",
       "0  753   교육&이용안내 [국세청] 사업자등록 상태조회 서비스 오픈API 테스트 프로그램 파일첨부  1,057  2021-06-28   \n",
       "0  750      법령(고시)&지침 「공공기관의 데이터베이스 표준화 지침」 개정 고시 안내 파일첨부    520  2021-06-07   \n",
       "0  749  기타 공공데이터 해외동향지 제26호(2020 EU 오픈데이터 성숙도 보고서 주요내용...     83  2021-06-04   \n",
       "0  748               뉴스레터 [공공데이터 NOW] 공공데이터 뉴스레터 76호 파일첨부    358  2021-05-28   \n",
       "0  747  기타 [공공데이터 활용기업 사례집] 디지털뉴딜 시대! 공공데이터 가치, 창업과 같이...    212  2021-05-24   \n",
       "0  746                   뉴스레터 [공공데이터 NOW] 뉴스레터 제 75호 파일첨부    418  2021-04-30   \n",
       "0  744               뉴스레터 [공공데이터 NOW] 공공데이터 뉴스레터 74호 파일첨부    442  2021-03-31   \n",
       "\n",
       "        CHGDT  \n",
       "0  2021-07-05  \n",
       "0  2021-07-06  \n",
       "0  2021-07-01  \n",
       "0  2021-07-12  \n",
       "0  2021-07-09  \n",
       "0  2021-06-04  \n",
       "0  2021-05-28  \n",
       "0  2021-05-24  \n",
       "0  2021-04-30  \n",
       "0  2021-03-31  "
      ]
     },
     "execution_count": 20,
     "metadata": {},
     "output_type": "execute_result"
    }
   ],
   "source": [
    "ARTICLE_LIST"
   ]
  },
  {
   "cell_type": "code",
   "execution_count": 21,
   "id": "dcb2e44a-9e7b-40a1-aa4d-b26efcc5b662",
   "metadata": {},
   "outputs": [],
   "source": [
    "browser.find_element_by_xpath('//*[@id=\"searchVO\"]/div[5]/table/tbody/tr[1]/td[2]/a').click()\n",
    "browser.implicitly_wait(3)"
   ]
  },
  {
   "cell_type": "code",
   "execution_count": 22,
   "id": "bd00c757-d702-4f9a-ae3f-33a4f34f35cc",
   "metadata": {},
   "outputs": [],
   "source": [
    "browser.find_element_by_xpath('//*[@id=\"recsroomDetail\"]/div[2]/div[4]/div/a').click()\n",
    "time.sleep(10)"
   ]
  },
  {
   "cell_type": "code",
   "execution_count": 23,
   "id": "ca691bd0-6fe8-43a0-b06c-c74a01d4a82e",
   "metadata": {},
   "outputs": [],
   "source": [
    "browser.close()"
   ]
  }
 ],
 "metadata": {
  "kernelspec": {
   "display_name": "Python 3",
   "language": "python",
   "name": "python3"
  },
  "language_info": {
   "codemirror_mode": {
    "name": "ipython",
    "version": 3
   },
   "file_extension": ".py",
   "mimetype": "text/x-python",
   "name": "python",
   "nbconvert_exporter": "python",
   "pygments_lexer": "ipython3",
   "version": "3.8.8"
  }
 },
 "nbformat": 4,
 "nbformat_minor": 5
}
