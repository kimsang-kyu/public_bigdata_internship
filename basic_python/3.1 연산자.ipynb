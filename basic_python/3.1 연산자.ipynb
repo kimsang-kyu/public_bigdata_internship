{
 "cells": [
  {
   "cell_type": "markdown",
   "id": "3b833d63-432e-44fd-8310-d81baa5b6895",
   "metadata": {},
   "source": [
    "더하기"
   ]
  },
  {
   "cell_type": "code",
   "execution_count": 1,
   "id": "a48e166e-a412-485a-85fc-234ce5e519a2",
   "metadata": {},
   "outputs": [
    {
     "data": {
      "text/plain": [
       "6"
      ]
     },
     "execution_count": 1,
     "metadata": {},
     "output_type": "execute_result"
    }
   ],
   "source": [
    "2+4"
   ]
  },
  {
   "cell_type": "markdown",
   "id": "cd37975b-cd48-487c-843f-614b70bec80b",
   "metadata": {},
   "source": [
    "빼기"
   ]
  },
  {
   "cell_type": "code",
   "execution_count": 2,
   "id": "22c77cb1-d44a-4766-93a2-0cca8e43664a",
   "metadata": {},
   "outputs": [
    {
     "data": {
      "text/plain": [
       "2"
      ]
     },
     "execution_count": 2,
     "metadata": {},
     "output_type": "execute_result"
    }
   ],
   "source": [
    "4-2"
   ]
  },
  {
   "cell_type": "markdown",
   "id": "6763a1ad-fffa-4ab4-bc40-59c05b888f09",
   "metadata": {},
   "source": [
    "곱하기"
   ]
  },
  {
   "cell_type": "code",
   "execution_count": 3,
   "id": "a3842302-04b7-483e-a2b8-7c373991f533",
   "metadata": {},
   "outputs": [
    {
     "data": {
      "text/plain": [
       "8"
      ]
     },
     "execution_count": 3,
     "metadata": {},
     "output_type": "execute_result"
    }
   ],
   "source": [
    "4*2"
   ]
  },
  {
   "cell_type": "markdown",
   "id": "00f22b46-5a0f-4bee-9356-5b5ad6de5b03",
   "metadata": {},
   "source": [
    "제곱"
   ]
  },
  {
   "cell_type": "code",
   "execution_count": 4,
   "id": "09de5b03-51ae-4f8e-8e9c-8ea0826483ce",
   "metadata": {},
   "outputs": [
    {
     "data": {
      "text/plain": [
       "16"
      ]
     },
     "execution_count": 4,
     "metadata": {},
     "output_type": "execute_result"
    }
   ],
   "source": [
    "4**2"
   ]
  },
  {
   "cell_type": "markdown",
   "id": "c250d2e4-8004-4c94-a185-5aa873dd06f4",
   "metadata": {},
   "source": [
    "몫"
   ]
  },
  {
   "cell_type": "code",
   "execution_count": 6,
   "id": "1b94e99b-73b8-4309-8c2d-d87c745c6404",
   "metadata": {},
   "outputs": [
    {
     "data": {
      "text/plain": [
       "3"
      ]
     },
     "execution_count": 6,
     "metadata": {},
     "output_type": "execute_result"
    }
   ],
   "source": [
    "7//2"
   ]
  },
  {
   "cell_type": "markdown",
   "id": "67ad0fbb-4b58-4eca-84a5-fb13e47a3630",
   "metadata": {},
   "source": [
    "나머지"
   ]
  },
  {
   "cell_type": "code",
   "execution_count": 7,
   "id": "26ecd1f1-947d-45f2-9235-cf085eaee723",
   "metadata": {},
   "outputs": [
    {
     "data": {
      "text/plain": [
       "1"
      ]
     },
     "execution_count": 7,
     "metadata": {},
     "output_type": "execute_result"
    }
   ],
   "source": [
    "7 % 2"
   ]
  },
  {
   "cell_type": "markdown",
   "id": "6198f9ba-d88b-4687-be07-fde2cf291006",
   "metadata": {},
   "source": [
    "파이썬 주석문"
   ]
  },
  {
   "cell_type": "code",
   "execution_count": null,
   "id": "b0ed84a9-8430-4029-b0c6-7a16debc6402",
   "metadata": {},
   "outputs": [],
   "source": [
    "# ctrl  + /"
   ]
  },
  {
   "cell_type": "code",
   "execution_count": null,
   "id": "faed1fb9-0df7-4139-a498-f2cc7ebf4657",
   "metadata": {},
   "outputs": [],
   "source": [
    "# 파이썬 주석문"
   ]
  },
  {
   "cell_type": "code",
   "execution_count": null,
   "id": "9b9f0ff5-814e-49a2-9903-edaee834bf26",
   "metadata": {},
   "outputs": [],
   "source": [
    "#파이썬\n",
    "#주석문"
   ]
  },
  {
   "cell_type": "code",
   "execution_count": 9,
   "id": "84e4ee06-6ad3-4235-927b-beb124422944",
   "metadata": {},
   "outputs": [
    {
     "name": "stdout",
     "output_type": "stream",
     "text": [
      "1\n"
     ]
    }
   ],
   "source": [
    "'''\n",
    "파이썬\n",
    "블럭\n",
    "주석\n",
    "'''\n",
    "\n",
    "print(1)"
   ]
  },
  {
   "cell_type": "markdown",
   "id": "842ed568-4180-45d2-b24e-a71c6166f936",
   "metadata": {},
   "source": [
    "들여쓰기"
   ]
  },
  {
   "cell_type": "code",
   "execution_count": 10,
   "id": "7e569089-aaa8-4f9d-8135-84f719903500",
   "metadata": {},
   "outputs": [
    {
     "name": "stdout",
     "output_type": "stream",
     "text": [
      "True\n",
      "True End ...\n",
      "End...\n"
     ]
    }
   ],
   "source": [
    "a = True\n",
    "if a:\n",
    "    print('True')\n",
    "    print('True End ...')\n",
    "    \n",
    "else:\n",
    "    print(\"false\")\n",
    "print('End...')"
   ]
  }
 ],
 "metadata": {
  "kernelspec": {
   "display_name": "Python 3",
   "language": "python",
   "name": "python3"
  },
  "language_info": {
   "codemirror_mode": {
    "name": "ipython",
    "version": 3
   },
   "file_extension": ".py",
   "mimetype": "text/x-python",
   "name": "python",
   "nbconvert_exporter": "python",
   "pygments_lexer": "ipython3",
   "version": "3.8.8"
  }
 },
 "nbformat": 4,
 "nbformat_minor": 5
}
