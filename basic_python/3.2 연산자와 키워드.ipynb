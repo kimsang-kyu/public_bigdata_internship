{
 "cells": [
  {
   "cell_type": "markdown",
   "id": "ee3d286b-e3b6-42e2-ae15-94bfdd8e4f63",
   "metadata": {},
   "source": [
    "print 함수"
   ]
  },
  {
   "cell_type": "code",
   "execution_count": 1,
   "id": "004dee0f-312b-492d-8545-0f9b6f474871",
   "metadata": {},
   "outputs": [
    {
     "name": "stdout",
     "output_type": "stream",
     "text": [
      "Hello World Python\n"
     ]
    }
   ],
   "source": [
    "print('Hello World Python')"
   ]
  },
  {
   "cell_type": "code",
   "execution_count": 2,
   "id": "ea0480cb-b9f0-47d2-903c-f3da0e5989ee",
   "metadata": {},
   "outputs": [
    {
     "name": "stdout",
     "output_type": "stream",
     "text": [
      "a 1\n"
     ]
    }
   ],
   "source": [
    "print('a',1)"
   ]
  },
  {
   "cell_type": "code",
   "execution_count": 4,
   "id": "daa8e604-eed4-41c1-b4be-7de952317459",
   "metadata": {},
   "outputs": [
    {
     "name": "stdout",
     "output_type": "stream",
     "text": [
      "a:1\n"
     ]
    }
   ],
   "source": [
    "print('a',1,sep=':')"
   ]
  },
  {
   "cell_type": "code",
   "execution_count": 5,
   "id": "b345e36e-4c22-41d4-8deb-55e22350bd1a",
   "metadata": {},
   "outputs": [
    {
     "name": "stdout",
     "output_type": "stream",
     "text": [
      "a:1."
     ]
    }
   ],
   "source": [
    "print('a',1,sep=':',end='.')"
   ]
  },
  {
   "cell_type": "markdown",
   "id": "d2179518-97c2-4378-8452-0ba7b0bc19ed",
   "metadata": {},
   "source": [
    "input 함수"
   ]
  },
  {
   "cell_type": "code",
   "execution_count": 11,
   "id": "0413e54d-755a-4258-8234-57fb4a2c0ecc",
   "metadata": {},
   "outputs": [
    {
     "name": "stdin",
     "output_type": "stream",
     "text": [
      " 1\n"
     ]
    },
    {
     "data": {
      "text/plain": [
       "'1'"
      ]
     },
     "execution_count": 11,
     "metadata": {},
     "output_type": "execute_result"
    }
   ],
   "source": [
    "input()"
   ]
  },
  {
   "cell_type": "code",
   "execution_count": 12,
   "id": "7aa897ec-85ad-4356-b772-46bb0772957a",
   "metadata": {},
   "outputs": [
    {
     "name": "stdin",
     "output_type": "stream",
     "text": [
      "프로그램 언어 :  python\n"
     ]
    },
    {
     "data": {
      "text/plain": [
       "'python'"
      ]
     },
     "execution_count": 12,
     "metadata": {},
     "output_type": "execute_result"
    }
   ],
   "source": [
    "input('프로그램 언어 : ')"
   ]
  },
  {
   "cell_type": "code",
   "execution_count": 14,
   "id": "343a726e-0e78-4193-982e-34f98c808877",
   "metadata": {},
   "outputs": [
    {
     "data": {
      "text/plain": [
       "3"
      ]
     },
     "execution_count": 14,
     "metadata": {},
     "output_type": "execute_result"
    }
   ],
   "source": [
    "round(3.14)"
   ]
  },
  {
   "cell_type": "code",
   "execution_count": 15,
   "id": "271b567e-16e4-465c-8cf5-ca594dd7bc89",
   "metadata": {},
   "outputs": [
    {
     "data": {
      "text/plain": [
       "3.14"
      ]
     },
     "execution_count": 15,
     "metadata": {},
     "output_type": "execute_result"
    }
   ],
   "source": [
    "round(3.141592,2)"
   ]
  },
  {
   "cell_type": "code",
   "execution_count": 16,
   "id": "6fe73e92-6e9e-4513-9c98-46a6f5d746a2",
   "metadata": {},
   "outputs": [
    {
     "data": {
      "text/plain": [
       "3.14159"
      ]
     },
     "execution_count": 16,
     "metadata": {},
     "output_type": "execute_result"
    }
   ],
   "source": [
    "round(3.141592,5)"
   ]
  },
  {
   "cell_type": "code",
   "execution_count": 17,
   "id": "7b218a6c-d37a-46aa-928b-077797afb734",
   "metadata": {},
   "outputs": [
    {
     "data": {
      "text/plain": [
       "10000"
      ]
     },
     "execution_count": 17,
     "metadata": {},
     "output_type": "execute_result"
    }
   ],
   "source": [
    "max(10,100,10000)"
   ]
  },
  {
   "cell_type": "code",
   "execution_count": 18,
   "id": "aabd30a7-6f86-4e1c-86c2-c0ef216b512d",
   "metadata": {},
   "outputs": [
    {
     "data": {
      "text/plain": [
       "10"
      ]
     },
     "execution_count": 18,
     "metadata": {},
     "output_type": "execute_result"
    }
   ],
   "source": [
    "min(10,100,1000)"
   ]
  },
  {
   "cell_type": "code",
   "execution_count": 19,
   "id": "b6d4a96c-d655-42a9-8af3-43ffcff6c2f1",
   "metadata": {},
   "outputs": [
    {
     "data": {
      "text/plain": [
       "16"
      ]
     },
     "execution_count": 19,
     "metadata": {},
     "output_type": "execute_result"
    }
   ],
   "source": [
    "pow(2,4) "
   ]
  },
  {
   "cell_type": "code",
   "execution_count": 20,
   "id": "bac898d1-f7dd-450e-bfd7-bedae8002e65",
   "metadata": {},
   "outputs": [
    {
     "data": {
      "text/plain": [
       "18"
      ]
     },
     "execution_count": 20,
     "metadata": {},
     "output_type": "execute_result"
    }
   ],
   "source": [
    "len('hello world python')"
   ]
  },
  {
   "cell_type": "code",
   "execution_count": 21,
   "id": "d1ae1259-7a9d-4749-a789-93d65755b46f",
   "metadata": {},
   "outputs": [
    {
     "data": {
      "text/plain": [
       "[('a', '1'), ('b', '2'), ('c', '3')]"
      ]
     },
     "execution_count": 21,
     "metadata": {},
     "output_type": "execute_result"
    }
   ],
   "source": [
    "list(zip('abc','123'))"
   ]
  },
  {
   "cell_type": "code",
   "execution_count": null,
   "id": "f064e579-0755-4eea-b8e5-9679126fada3",
   "metadata": {},
   "outputs": [],
   "source": []
  },
  {
   "cell_type": "code",
   "execution_count": 22,
   "id": "06dd69cb-8c70-4964-9ce8-0f70d7cc2a8a",
   "metadata": {},
   "outputs": [],
   "source": [
    "hello = 'hello world python'"
   ]
  },
  {
   "cell_type": "code",
   "execution_count": 23,
   "id": "8ebd3230-cab5-4484-974e-16dd80c8265b",
   "metadata": {},
   "outputs": [
    {
     "name": "stdout",
     "output_type": "stream",
     "text": [
      "hello world python\n"
     ]
    }
   ],
   "source": [
    "print(hello)"
   ]
  },
  {
   "cell_type": "code",
   "execution_count": 24,
   "id": "168b6876-833d-4df3-831f-c0cb44b6ec65",
   "metadata": {},
   "outputs": [
    {
     "data": {
      "text/plain": [
       "'hello world python'"
      ]
     },
     "execution_count": 24,
     "metadata": {},
     "output_type": "execute_result"
    }
   ],
   "source": [
    "hello"
   ]
  },
  {
   "cell_type": "code",
   "execution_count": 25,
   "id": "dfd8cccf-9a75-4770-86b9-04ff7061516c",
   "metadata": {},
   "outputs": [
    {
     "data": {
      "text/plain": [
       "'hello world python'"
      ]
     },
     "execution_count": 25,
     "metadata": {},
     "output_type": "execute_result"
    }
   ],
   "source": [
    "hello\n",
    "hello"
   ]
  },
  {
   "cell_type": "code",
   "execution_count": null,
   "id": "a1786cad-4051-469f-bc27-18164264dc38",
   "metadata": {},
   "outputs": [],
   "source": []
  },
  {
   "cell_type": "code",
   "execution_count": null,
   "id": "a8917bdb-f798-49fe-b1ab-be3fee62b3d7",
   "metadata": {},
   "outputs": [],
   "source": []
  },
  {
   "cell_type": "code",
   "execution_count": null,
   "id": "088aee9c-b2ee-4553-bb36-3fe641137893",
   "metadata": {},
   "outputs": [],
   "source": []
  }
 ],
 "metadata": {
  "kernelspec": {
   "display_name": "Python 3",
   "language": "python",
   "name": "python3"
  },
  "language_info": {
   "codemirror_mode": {
    "name": "ipython",
    "version": 3
   },
   "file_extension": ".py",
   "mimetype": "text/x-python",
   "name": "python",
   "nbconvert_exporter": "python",
   "pygments_lexer": "ipython3",
   "version": "3.8.8"
  }
 },
 "nbformat": 4,
 "nbformat_minor": 5
}
