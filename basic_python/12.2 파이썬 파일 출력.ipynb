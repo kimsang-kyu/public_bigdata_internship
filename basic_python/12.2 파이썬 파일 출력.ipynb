{
 "cells": [
  {
   "cell_type": "code",
   "execution_count": 21,
   "id": "2fb4191e-74e4-4e22-89d7-8656425579d1",
   "metadata": {},
   "outputs": [],
   "source": [
    "fw = open('./hello_write.txt','w')"
   ]
  },
  {
   "cell_type": "code",
   "execution_count": 22,
   "id": "8e09de6b-fc3c-49da-beed-bfb95b67517c",
   "metadata": {},
   "outputs": [
    {
     "data": {
      "text/plain": [
       "22"
      ]
     },
     "execution_count": 22,
     "metadata": {},
     "output_type": "execute_result"
    }
   ],
   "source": [
    "fw.write('hello world Python!!!\\n')"
   ]
  },
  {
   "cell_type": "code",
   "execution_count": 23,
   "id": "50d57248-29a0-415b-bcfe-644199803aac",
   "metadata": {},
   "outputs": [
    {
     "data": {
      "text/plain": [
       "26"
      ]
     },
     "execution_count": 23,
     "metadata": {},
     "output_type": "execute_result"
    }
   ],
   "source": [
    "fw.write('welcome to Python world!!!')"
   ]
  },
  {
   "cell_type": "code",
   "execution_count": 4,
   "id": "1d1b26e1-caae-4168-8fdc-5176e1d85e77",
   "metadata": {},
   "outputs": [],
   "source": [
    "fw.close()"
   ]
  },
  {
   "cell_type": "code",
   "execution_count": 18,
   "id": "fe6b188f-86a1-4206-ada3-e936a28a61bb",
   "metadata": {},
   "outputs": [],
   "source": [
    "with open('./hello_write_1.txt','x') as fw:\n",
    "    fw.write('hello world Python!!!\\n')\n",
    "    fw.write('welcome to Python world!!!')"
   ]
  },
  {
   "cell_type": "code",
   "execution_count": 24,
   "id": "f8c251f5-e591-4d1c-86e8-99e903bf3837",
   "metadata": {},
   "outputs": [],
   "source": [
    "with open('./hello_write_1.txt','a') as fw:\n",
    "    fw.write('New line append!!!')"
   ]
  },
  {
   "cell_type": "code",
   "execution_count": null,
   "id": "cc54bd20-dfad-4cf6-81e5-d9e6cc283e97",
   "metadata": {},
   "outputs": [],
   "source": []
  }
 ],
 "metadata": {
  "kernelspec": {
   "display_name": "Python 3",
   "language": "python",
   "name": "python3"
  },
  "language_info": {
   "codemirror_mode": {
    "name": "ipython",
    "version": 3
   },
   "file_extension": ".py",
   "mimetype": "text/x-python",
   "name": "python",
   "nbconvert_exporter": "python",
   "pygments_lexer": "ipython3",
   "version": "3.8.8"
  }
 },
 "nbformat": 4,
 "nbformat_minor": 5
}
