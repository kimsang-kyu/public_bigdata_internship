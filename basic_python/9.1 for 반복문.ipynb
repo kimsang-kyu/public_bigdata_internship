{
 "cells": [
  {
   "cell_type": "markdown",
   "id": "a6a79db6-b06f-41ae-8423-5ec588143886",
   "metadata": {},
   "source": [
    "# for 반복문"
   ]
  },
  {
   "cell_type": "code",
   "execution_count": 15,
   "id": "460c71e5-cb02-44d1-a119-78bd3ed9c797",
   "metadata": {},
   "outputs": [
    {
     "name": "stdout",
     "output_type": "stream",
     "text": [
      "1\n",
      "2\n",
      "3\n"
     ]
    }
   ],
   "source": [
    "for num in [1,2,3]:\n",
    "    print(num)"
   ]
  },
  {
   "cell_type": "code",
   "execution_count": 16,
   "id": "37dc7b67-c006-4edf-8a2f-6d05bf02c82e",
   "metadata": {},
   "outputs": [
    {
     "name": "stdout",
     "output_type": "stream",
     "text": [
      "hello\n",
      "world\n",
      "python\n"
     ]
    }
   ],
   "source": [
    "for st in ['hello','world','python']:\n",
    "    print(st)"
   ]
  },
  {
   "cell_type": "code",
   "execution_count": 17,
   "id": "5b152509-3eac-46ab-8bed-b9d3da3db29b",
   "metadata": {},
   "outputs": [],
   "source": [
    "score = {'국어':95,'영어':90,'수학':80}"
   ]
  },
  {
   "cell_type": "code",
   "execution_count": 18,
   "id": "94a82ba1-996e-405a-8d8f-ac4dd6972e81",
   "metadata": {},
   "outputs": [
    {
     "name": "stdout",
     "output_type": "stream",
     "text": [
      "국어\n",
      "영어\n",
      "수학\n"
     ]
    }
   ],
   "source": [
    "for item in score.keys():\n",
    "    print(item)    "
   ]
  },
  {
   "cell_type": "code",
   "execution_count": 19,
   "id": "9dfb7d13-e5a8-468a-af1c-adfd088d968a",
   "metadata": {},
   "outputs": [
    {
     "name": "stdout",
     "output_type": "stream",
     "text": [
      "95\n",
      "90\n",
      "80\n"
     ]
    }
   ],
   "source": [
    "for item in score.values():\n",
    "    print(item)    "
   ]
  },
  {
   "cell_type": "code",
   "execution_count": 20,
   "id": "e3597d36-a3f7-4cfa-ac0a-bee3945f2ac9",
   "metadata": {},
   "outputs": [
    {
     "name": "stdout",
     "output_type": "stream",
     "text": [
      "국어과목 점수는 95점 입니다\n",
      "영어과목 점수는 90점 입니다\n",
      "수학과목 점수는 80점 입니다\n"
     ]
    }
   ],
   "source": [
    "for key,value in score.items():\n",
    "    print(f'{key}과목 점수는 {value}점 입니다')    "
   ]
  },
  {
   "cell_type": "code",
   "execution_count": 21,
   "id": "de9dd1fa-07ff-4cce-9d91-d5daca68e77f",
   "metadata": {},
   "outputs": [
    {
     "data": {
      "text/plain": [
       "[0, 1, 2, 3, 4, 5, 6, 7, 8, 9]"
      ]
     },
     "execution_count": 21,
     "metadata": {},
     "output_type": "execute_result"
    }
   ],
   "source": [
    "list(range(10))"
   ]
  },
  {
   "cell_type": "code",
   "execution_count": 22,
   "id": "31a77181-e335-48dd-8c2c-1493ea6444ac",
   "metadata": {},
   "outputs": [
    {
     "data": {
      "text/plain": [
       "[1, 2, 3, 4, 5, 6, 7, 8, 9, 10]"
      ]
     },
     "execution_count": 22,
     "metadata": {},
     "output_type": "execute_result"
    }
   ],
   "source": [
    "list(range(1,11))"
   ]
  },
  {
   "cell_type": "code",
   "execution_count": 23,
   "id": "eaa813f3-c9d7-488f-90b9-4df17b12c325",
   "metadata": {},
   "outputs": [
    {
     "data": {
      "text/plain": [
       "[10, 9, 8, 7, 6, 5, 4, 3, 2, 1]"
      ]
     },
     "execution_count": 23,
     "metadata": {},
     "output_type": "execute_result"
    }
   ],
   "source": [
    "list(range(10,0,-1))"
   ]
  },
  {
   "cell_type": "code",
   "execution_count": 24,
   "id": "a593c65a-0dd4-40b5-b2b6-1dd837798d3d",
   "metadata": {},
   "outputs": [
    {
     "name": "stdout",
     "output_type": "stream",
     "text": [
      "1\n",
      "3\n",
      "5\n",
      "7\n",
      "9\n"
     ]
    }
   ],
   "source": [
    "for i in range(1,11,2):\n",
    "    print(i)"
   ]
  },
  {
   "cell_type": "code",
   "execution_count": 25,
   "id": "b4cf188e-6361-45b2-92af-8100623da8c3",
   "metadata": {},
   "outputs": [
    {
     "name": "stdout",
     "output_type": "stream",
     "text": [
      "0\n",
      "2\n",
      "4\n",
      "6\n",
      "8\n",
      "10\n"
     ]
    }
   ],
   "source": [
    "for i in range(0,11,2):\n",
    "    print(i)"
   ]
  },
  {
   "cell_type": "code",
   "execution_count": 26,
   "id": "a10262c7-1f21-4cb6-98a4-fbd545b07f44",
   "metadata": {},
   "outputs": [
    {
     "name": "stdout",
     "output_type": "stream",
     "text": [
      "2 X 1 = 2\n",
      "2 X 2 = 4\n",
      "2 X 3 = 6\n",
      "2 X 4 = 8\n",
      "2 X 5 = 10\n",
      "2 X 6 = 12\n",
      "2 X 7 = 14\n",
      "2 X 8 = 16\n",
      "2 X 9 = 18\n",
      "2단을 종료합니다.\n"
     ]
    }
   ],
   "source": [
    "for i in range(1,10):\n",
    "    ans = 2 * i\n",
    "    print(f'2 X {i} = {ans}')\n",
    "else:\n",
    "    print('2단을 종료합니다.')"
   ]
  },
  {
   "cell_type": "code",
   "execution_count": null,
   "id": "d2a2d1c6-546a-4c6c-90f1-9a11a56a4fa6",
   "metadata": {},
   "outputs": [],
   "source": []
  }
 ],
 "metadata": {
  "kernelspec": {
   "display_name": "Python 3",
   "language": "python",
   "name": "python3"
  },
  "language_info": {
   "codemirror_mode": {
    "name": "ipython",
    "version": 3
   },
   "file_extension": ".py",
   "mimetype": "text/x-python",
   "name": "python",
   "nbconvert_exporter": "python",
   "pygments_lexer": "ipython3",
   "version": "3.8.8"
  }
 },
 "nbformat": 4,
 "nbformat_minor": 5
}
