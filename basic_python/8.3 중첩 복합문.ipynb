{
 "cells": [
  {
   "cell_type": "code",
   "execution_count": 2,
   "id": "85e03b7a-9fb8-4ce1-9c9c-13ff4e15d43b",
   "metadata": {},
   "outputs": [],
   "source": [
    "a = True\n",
    "x,y = 5,10"
   ]
  },
  {
   "cell_type": "code",
   "execution_count": 3,
   "id": "0660afb7-259f-4c4d-857c-d26640f15ff1",
   "metadata": {},
   "outputs": [
    {
     "name": "stdout",
     "output_type": "stream",
     "text": [
      "a는 True입니다\n",
      "x가 y보다 작습니다.\n"
     ]
    }
   ],
   "source": [
    "if a == True:\n",
    "    print('a는 True입니다')\n",
    "    if x > y:\n",
    "        print('x가 y보다 큽니다.')\n",
    "    else:\n",
    "        print('x가 y보다 작습니다.')\n",
    "else:\n",
    "    print('a는 False입니다')"
   ]
  },
  {
   "cell_type": "code",
   "execution_count": 5,
   "id": "cb92d896-eaad-4351-821a-2bb582137f79",
   "metadata": {},
   "outputs": [],
   "source": [
    "나이 = 30\n",
    "회원 = True"
   ]
  },
  {
   "cell_type": "code",
   "execution_count": 6,
   "id": "c3b684a2-ace1-45dc-9f3f-403a23683af9",
   "metadata": {},
   "outputs": [
    {
     "name": "stdout",
     "output_type": "stream",
     "text": [
      "입장료는 5,000원 입니다.\n"
     ]
    }
   ],
   "source": [
    "입장료 = 0 \n",
    "\n",
    "if 회원:\n",
    "    if 나이 > 6 and 나이 <= 13:\n",
    "        입장료 = 2500\n",
    "    elif 나이 > 14 and 나이 <= 59:\n",
    "        입장료 = 5000\n",
    "else:\n",
    "    if 나이 > 6 and 나이 <= 13:\n",
    "        입장료 = 5000\n",
    "    elif 나이 > 14 and 나이 <= 59:\n",
    "        입장료 = 10000\n",
    "        \n",
    "print(f'입장료는 {입장료:,}원 입니다.')"
   ]
  },
  {
   "cell_type": "code",
   "execution_count": 7,
   "id": "288c9ece-1368-46e3-a8ad-f06800cc4cdf",
   "metadata": {},
   "outputs": [
    {
     "name": "stdout",
     "output_type": "stream",
     "text": [
      "입장료는 5,000원 입니다.\n"
     ]
    }
   ],
   "source": [
    "입장료 = 0 \n",
    "\n",
    "if 나이 <= 6 or 나이 >= 60:\n",
    "    입장료 = 0\n",
    "elif 나이 > 6 and 나이 <= 13:\n",
    "    입장료 = 5000\n",
    "elif 나이 > 14 and 나이 <= 59:\n",
    "    입장료 = 10000\n",
    "    \n",
    "if 회원:\n",
    "    입장료 = int(입장료*0.5)\n",
    "\n",
    "print(f'입장료는 {입장료:,}원 입니다.')"
   ]
  },
  {
   "cell_type": "code",
   "execution_count": null,
   "id": "a3ad33ab-61d4-460a-bcc5-3e419798cb14",
   "metadata": {},
   "outputs": [],
   "source": []
  }
 ],
 "metadata": {
  "kernelspec": {
   "display_name": "Python 3",
   "language": "python",
   "name": "python3"
  },
  "language_info": {
   "codemirror_mode": {
    "name": "ipython",
    "version": 3
   },
   "file_extension": ".py",
   "mimetype": "text/x-python",
   "name": "python",
   "nbconvert_exporter": "python",
   "pygments_lexer": "ipython3",
   "version": "3.8.8"
  }
 },
 "nbformat": 4,
 "nbformat_minor": 5
}
