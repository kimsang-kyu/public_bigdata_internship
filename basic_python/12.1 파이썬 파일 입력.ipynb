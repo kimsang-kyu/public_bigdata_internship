{
 "cells": [
  {
   "cell_type": "code",
   "execution_count": 3,
   "id": "52f166b8-3585-40d5-866d-00fcb5d0a707",
   "metadata": {},
   "outputs": [
    {
     "name": "stdout",
     "output_type": "stream",
     "text": [
      "hello world Python!!\n",
      "\n",
      "Welcome to python world!!\n"
     ]
    }
   ],
   "source": [
    "fr = open('./12-1.hello.txt', 'r')\n",
    "for line in fr:\n",
    "    print(line)"
   ]
  },
  {
   "cell_type": "code",
   "execution_count": 4,
   "id": "6d8cf8bd-7c0f-4d3a-a433-d892ba951624",
   "metadata": {},
   "outputs": [],
   "source": [
    "fr.close()"
   ]
  },
  {
   "cell_type": "code",
   "execution_count": 5,
   "id": "20d74660-ef93-4147-aec8-d0418f9a07a0",
   "metadata": {},
   "outputs": [
    {
     "name": "stdout",
     "output_type": "stream",
     "text": [
      "hello world Python!!\n",
      "\n",
      "Welcome to python world!!\n"
     ]
    }
   ],
   "source": [
    "# with open(파일경로/파일명, 모드) as 파일 객체\n",
    "with open('./12-1.hello.txt', 'r') as fr:\n",
    "    for line in fr:\n",
    "        print(line)"
   ]
  },
  {
   "cell_type": "code",
   "execution_count": null,
   "id": "36bcfb5e-c448-4258-8c4b-e66b9330d5fe",
   "metadata": {},
   "outputs": [],
   "source": []
  },
  {
   "cell_type": "code",
   "execution_count": null,
   "id": "f24f9cab-2ac3-4ea3-89c7-409c1e02ba27",
   "metadata": {},
   "outputs": [],
   "source": []
  }
 ],
 "metadata": {
  "kernelspec": {
   "display_name": "Python 3",
   "language": "python",
   "name": "python3"
  },
  "language_info": {
   "codemirror_mode": {
    "name": "ipython",
    "version": 3
   },
   "file_extension": ".py",
   "mimetype": "text/x-python",
   "name": "python",
   "nbconvert_exporter": "python",
   "pygments_lexer": "ipython3",
   "version": "3.8.8"
  }
 },
 "nbformat": 4,
 "nbformat_minor": 5
}
