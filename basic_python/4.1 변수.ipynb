{
 "cells": [
  {
   "cell_type": "code",
   "execution_count": 1,
   "id": "90a9b4ff-d15c-4c3d-81fd-9a2330442be3",
   "metadata": {},
   "outputs": [
    {
     "name": "stdout",
     "output_type": "stream",
     "text": [
      "0\n"
     ]
    }
   ],
   "source": [
    "num = 0\n",
    "print(num)"
   ]
  },
  {
   "cell_type": "code",
   "execution_count": 2,
   "id": "06fc3e6f-92a8-4ddb-983c-ec680b2d41e1",
   "metadata": {},
   "outputs": [
    {
     "name": "stdout",
     "output_type": "stream",
     "text": [
      "2\n"
     ]
    }
   ],
   "source": [
    "num2 = 2\n",
    "print(num2)"
   ]
  },
  {
   "cell_type": "code",
   "execution_count": 3,
   "id": "ce3f1d08-22bd-477e-a738-9d5dacc059c3",
   "metadata": {},
   "outputs": [
    {
     "name": "stdout",
     "output_type": "stream",
     "text": [
      "3\n"
     ]
    }
   ],
   "source": [
    "num_3 = 3\n",
    "print(num_3)"
   ]
  },
  {
   "cell_type": "code",
   "execution_count": 5,
   "id": "cff43276-fa0d-49f9-a159-3a2b76f2cf84",
   "metadata": {},
   "outputs": [
    {
     "name": "stdout",
     "output_type": "stream",
     "text": [
      "hello world python\n"
     ]
    }
   ],
   "source": [
    "hello = 'hello world python'\n",
    "print(hello)"
   ]
  },
  {
   "cell_type": "code",
   "execution_count": 6,
   "id": "bab589f6-b98d-4a1c-82d7-a3fc9d5f88c0",
   "metadata": {},
   "outputs": [
    {
     "name": "stdout",
     "output_type": "stream",
     "text": [
      "hello\n"
     ]
    }
   ],
   "source": [
    "헬로 = 'hello'\n",
    "print(헬로)"
   ]
  },
  {
   "cell_type": "code",
   "execution_count": 7,
   "id": "25e51577-77fe-4923-89ea-9588bb344cf9",
   "metadata": {},
   "outputs": [
    {
     "name": "stdout",
     "output_type": "stream",
     "text": [
      "안녕\n"
     ]
    }
   ],
   "source": [
    "헬로2 = '안녕'\n",
    "print(헬로2)"
   ]
  },
  {
   "cell_type": "code",
   "execution_count": null,
   "id": "a4ff7eea-b7d9-4ace-a0a8-9da6ee9d86d2",
   "metadata": {},
   "outputs": [],
   "source": []
  },
  {
   "cell_type": "code",
   "execution_count": 18,
   "id": "4222f4a6-42de-4d24-8d7d-9fe2bb2870ce",
   "metadata": {},
   "outputs": [
    {
     "name": "stdout",
     "output_type": "stream",
     "text": [
      "hello\n"
     ]
    }
   ],
   "source": [
    "_hello = 'hello'\n",
    "print(_hello)"
   ]
  },
  {
   "cell_type": "code",
   "execution_count": 19,
   "id": "99010531-8117-4b66-8f06-23aab9515595",
   "metadata": {},
   "outputs": [
    {
     "name": "stdout",
     "output_type": "stream",
     "text": [
      "hello world\n"
     ]
    }
   ],
   "source": [
    "hello2 = 'hello world'\n",
    "print(hello2)"
   ]
  },
  {
   "cell_type": "code",
   "execution_count": 20,
   "id": "c3ff19ab-ffcc-4f3d-919b-a7117bbf2e2f",
   "metadata": {},
   "outputs": [
    {
     "ename": "SyntaxError",
     "evalue": "invalid syntax (<ipython-input-20-c2c4c7aaddce>, line 1)",
     "output_type": "error",
     "traceback": [
      "\u001b[1;36m  File \u001b[1;32m\"<ipython-input-20-c2c4c7aaddce>\"\u001b[1;36m, line \u001b[1;32m1\u001b[0m\n\u001b[1;33m    3hello = 'hello world python'\u001b[0m\n\u001b[1;37m     ^\u001b[0m\n\u001b[1;31mSyntaxError\u001b[0m\u001b[1;31m:\u001b[0m invalid syntax\n"
     ]
    }
   ],
   "source": [
    "3hello = 'hello world python'"
   ]
  },
  {
   "cell_type": "code",
   "execution_count": 21,
   "id": "a15a9483-634e-4aca-8fe0-37537ea7a937",
   "metadata": {},
   "outputs": [
    {
     "ename": "SyntaxError",
     "evalue": "invalid decimal literal (<ipython-input-21-7c8f1bd8159f>, line 1)",
     "output_type": "error",
     "traceback": [
      "\u001b[1;36m  File \u001b[1;32m\"<ipython-input-21-7c8f1bd8159f>\"\u001b[1;36m, line \u001b[1;32m1\u001b[0m\n\u001b[1;33m    2_hello = 'hello world'\u001b[0m\n\u001b[1;37m     ^\u001b[0m\n\u001b[1;31mSyntaxError\u001b[0m\u001b[1;31m:\u001b[0m invalid decimal literal\n"
     ]
    }
   ],
   "source": [
    "2_hello = 'hello world'"
   ]
  },
  {
   "cell_type": "code",
   "execution_count": null,
   "id": "7e8f71f8-edb7-433b-9cb4-e4f8840a8186",
   "metadata": {},
   "outputs": [],
   "source": []
  },
  {
   "cell_type": "code",
   "execution_count": 8,
   "id": "f8bd9af2-b82e-4689-9d1d-c74fa2ea5372",
   "metadata": {},
   "outputs": [],
   "source": [
    "num1 = 10\n",
    "num2 = 5"
   ]
  },
  {
   "cell_type": "code",
   "execution_count": 9,
   "id": "06151a98-82e1-435f-ad68-e2690498f233",
   "metadata": {},
   "outputs": [
    {
     "name": "stdout",
     "output_type": "stream",
     "text": [
      "10 5\n"
     ]
    }
   ],
   "source": [
    "print(num1, num2)"
   ]
  },
  {
   "cell_type": "code",
   "execution_count": 10,
   "id": "c8e4f516-6c89-4829-b73a-b365f9624e95",
   "metadata": {},
   "outputs": [
    {
     "name": "stdout",
     "output_type": "stream",
     "text": [
      "15\n"
     ]
    }
   ],
   "source": [
    "print(num1 + num2)"
   ]
  },
  {
   "cell_type": "code",
   "execution_count": 11,
   "id": "d5368d0e-338a-4b19-b2a9-cc7c3af81171",
   "metadata": {},
   "outputs": [
    {
     "name": "stdout",
     "output_type": "stream",
     "text": [
      "sum :  15\n"
     ]
    }
   ],
   "source": [
    "print('sum : ', num1 + num2)"
   ]
  },
  {
   "cell_type": "code",
   "execution_count": 22,
   "id": "c4d8fbb8-84b1-47fa-a67b-0b15c3dbaaa8",
   "metadata": {},
   "outputs": [],
   "source": [
    "a = b = 10"
   ]
  },
  {
   "cell_type": "code",
   "execution_count": 23,
   "id": "f398caa4-d087-4050-a680-a379a1cb4d48",
   "metadata": {},
   "outputs": [
    {
     "name": "stdout",
     "output_type": "stream",
     "text": [
      "10\n"
     ]
    }
   ],
   "source": [
    "print(a)"
   ]
  },
  {
   "cell_type": "code",
   "execution_count": 24,
   "id": "272d320e-8534-441f-aded-543ce1426f6f",
   "metadata": {},
   "outputs": [
    {
     "name": "stdout",
     "output_type": "stream",
     "text": [
      "10\n"
     ]
    }
   ],
   "source": [
    "print(b)"
   ]
  },
  {
   "cell_type": "code",
   "execution_count": 15,
   "id": "1791914a-fb71-471e-b445-9dcf8cfb21a2",
   "metadata": {},
   "outputs": [],
   "source": [
    "a,b = 2,4"
   ]
  },
  {
   "cell_type": "code",
   "execution_count": 16,
   "id": "165c010b-644d-420e-8150-16e65c989841",
   "metadata": {},
   "outputs": [
    {
     "name": "stdout",
     "output_type": "stream",
     "text": [
      "2\n"
     ]
    }
   ],
   "source": [
    "print(a)"
   ]
  },
  {
   "cell_type": "code",
   "execution_count": 17,
   "id": "e42e5e85-52a8-420a-bf14-5ec269229634",
   "metadata": {},
   "outputs": [
    {
     "name": "stdout",
     "output_type": "stream",
     "text": [
      "4\n"
     ]
    }
   ],
   "source": [
    "print(b)"
   ]
  },
  {
   "cell_type": "code",
   "execution_count": 25,
   "id": "94527bb4-8980-4b6b-82ac-bbe1fe7c1832",
   "metadata": {},
   "outputs": [],
   "source": [
    "a = 10; b= 3"
   ]
  },
  {
   "cell_type": "code",
   "execution_count": 26,
   "id": "4ed737ce-332a-4573-9dc0-ba5701c70aa5",
   "metadata": {},
   "outputs": [
    {
     "name": "stdout",
     "output_type": "stream",
     "text": [
      "10 3\n"
     ]
    }
   ],
   "source": [
    "print(a,b)"
   ]
  },
  {
   "cell_type": "code",
   "execution_count": 27,
   "id": "084885ec-fb1d-4260-a862-1c128631315c",
   "metadata": {},
   "outputs": [],
   "source": [
    "temp = a; a = b; b = temp"
   ]
  },
  {
   "cell_type": "code",
   "execution_count": 28,
   "id": "5d6fd0a2-9313-4e66-9be0-4b35d7169dc7",
   "metadata": {},
   "outputs": [
    {
     "name": "stdout",
     "output_type": "stream",
     "text": [
      "3 10\n"
     ]
    }
   ],
   "source": [
    "print(a,b)"
   ]
  },
  {
   "cell_type": "code",
   "execution_count": 29,
   "id": "d0aa1aca-283f-4540-bd4c-204de84e2d0b",
   "metadata": {},
   "outputs": [
    {
     "name": "stdout",
     "output_type": "stream",
     "text": [
      "10 5\n"
     ]
    }
   ],
   "source": [
    "a = 10; b = 5\n",
    "print(a,b)"
   ]
  },
  {
   "cell_type": "code",
   "execution_count": 30,
   "id": "2af5c788-4716-4c3b-b6f9-4bd25bbc5a1e",
   "metadata": {},
   "outputs": [
    {
     "name": "stdout",
     "output_type": "stream",
     "text": [
      "5 10\n"
     ]
    }
   ],
   "source": [
    "a,b = b,a\n",
    "print(a,b)"
   ]
  }
 ],
 "metadata": {
  "kernelspec": {
   "display_name": "Python 3",
   "language": "python",
   "name": "python3"
  },
  "language_info": {
   "codemirror_mode": {
    "name": "ipython",
    "version": 3
   },
   "file_extension": ".py",
   "mimetype": "text/x-python",
   "name": "python",
   "nbconvert_exporter": "python",
   "pygments_lexer": "ipython3",
   "version": "3.8.8"
  }
 },
 "nbformat": 4,
 "nbformat_minor": 5
}
