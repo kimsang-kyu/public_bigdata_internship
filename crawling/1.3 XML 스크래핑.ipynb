{
 "cells": [
  {
   "cell_type": "code",
   "execution_count": 2,
   "id": "39571671-a1bd-44fc-a8b1-f567d8a30aa5",
   "metadata": {},
   "outputs": [],
   "source": [
    "from xml.etree import ElementTree\n",
    "import pandas as pd \n",
    "#https://www.weather.go.kr/weather/lifenindustry/sevice_rss.jsp\n",
    "#http://www.kma.go.kr/weather/forecast/mid-term-rss3.jsp?stnId=109"
   ]
  },
  {
   "cell_type": "code",
   "execution_count": 4,
   "id": "f5558cfb-f5ec-4a8b-83dc-ec8b97699df8",
   "metadata": {
    "tags": []
   },
   "outputs": [],
   "source": [
    "tree = ElementTree.parse('rss.xml')"
   ]
  },
  {
   "cell_type": "code",
   "execution_count": 5,
   "id": "cb327c5c-8d53-4423-a3ab-0dd3f62a6ee7",
   "metadata": {
    "tags": []
   },
   "outputs": [],
   "source": [
    "root = tree.getroot()"
   ]
  },
  {
   "cell_type": "code",
   "execution_count": 7,
   "id": "e5a44c00-5783-4903-a531-f922cef495de",
   "metadata": {},
   "outputs": [
    {
     "data": {
      "text/plain": [
       "<Element 'rss' at 0x0000020EA9A85630>"
      ]
     },
     "execution_count": 7,
     "metadata": {},
     "output_type": "execute_result"
    }
   ],
   "source": [
    "root"
   ]
  },
  {
   "cell_type": "code",
   "execution_count": 22,
   "id": "adb6ec0c-7475-4a69-a363-53cfba5ca04e",
   "metadata": {},
   "outputs": [
    {
     "data": {
      "text/html": [
       "<div>\n",
       "<style scoped>\n",
       "    .dataframe tbody tr th:only-of-type {\n",
       "        vertical-align: middle;\n",
       "    }\n",
       "\n",
       "    .dataframe tbody tr th {\n",
       "        vertical-align: top;\n",
       "    }\n",
       "\n",
       "    .dataframe thead th {\n",
       "        text-align: right;\n",
       "    }\n",
       "</style>\n",
       "<table border=\"1\" class=\"dataframe\">\n",
       "  <thead>\n",
       "    <tr style=\"text-align: right;\">\n",
       "      <th></th>\n",
       "      <th>일시</th>\n",
       "      <th>최저기온</th>\n",
       "      <th>최고기온</th>\n",
       "      <th>날씨</th>\n",
       "    </tr>\n",
       "  </thead>\n",
       "  <tbody>\n",
       "    <tr>\n",
       "      <th>0</th>\n",
       "      <td>2021-07-15 00:00</td>\n",
       "      <td>25</td>\n",
       "      <td>33</td>\n",
       "      <td>구름많음</td>\n",
       "    </tr>\n",
       "    <tr>\n",
       "      <th>0</th>\n",
       "      <td>2021-07-15 12:00</td>\n",
       "      <td>25</td>\n",
       "      <td>33</td>\n",
       "      <td>구름많음</td>\n",
       "    </tr>\n",
       "    <tr>\n",
       "      <th>0</th>\n",
       "      <td>2021-07-16 00:00</td>\n",
       "      <td>24</td>\n",
       "      <td>33</td>\n",
       "      <td>구름많음</td>\n",
       "    </tr>\n",
       "    <tr>\n",
       "      <th>0</th>\n",
       "      <td>2021-07-16 12:00</td>\n",
       "      <td>24</td>\n",
       "      <td>33</td>\n",
       "      <td>구름많고 소나기</td>\n",
       "    </tr>\n",
       "    <tr>\n",
       "      <th>0</th>\n",
       "      <td>2021-07-17 00:00</td>\n",
       "      <td>24</td>\n",
       "      <td>32</td>\n",
       "      <td>구름많음</td>\n",
       "    </tr>\n",
       "  </tbody>\n",
       "</table>\n",
       "</div>"
      ],
      "text/plain": [
       "                 일시 최저기온 최고기온        날씨\n",
       "0  2021-07-15 00:00   25   33      구름많음\n",
       "0  2021-07-15 12:00   25   33      구름많음\n",
       "0  2021-07-16 00:00   24   33      구름많음\n",
       "0  2021-07-16 12:00   24   33  구름많고 소나기\n",
       "0  2021-07-17 00:00   24   32      구름많음"
      ]
     },
     "execution_count": 22,
     "metadata": {},
     "output_type": "execute_result"
    }
   ],
   "source": [
    "data_list = []\n",
    "for item in root.findall('channel/item/description/body/location/data'):\n",
    "    tm_ef = item.find('tmEf').text #find 메서드로 element 탐색, text 속성으로 값 추출 \n",
    "    tmn = item.find('tmn').text\n",
    "    tmx = item.find('tmx').text\n",
    "    wf = item.find('wf').text\n",
    "    data = pd.DataFrame({\n",
    "        '일시':[tm_ef],\n",
    "        '최저기온' : [tmn],\n",
    "        '최고기온' : [tmx],\n",
    "        '날씨' : [wf],\n",
    "    })\n",
    "    data_list.append(data)\n",
    "weather = pd.concat(data_list)\n",
    "weather.head()"
   ]
  },
  {
   "cell_type": "code",
   "execution_count": 10,
   "id": "079b87e0-c6e7-4061-9f16-e00f0b827a2c",
   "metadata": {},
   "outputs": [
    {
     "data": {
      "text/plain": [
       "pandas.core.frame.DataFrame"
      ]
     },
     "execution_count": 10,
     "metadata": {},
     "output_type": "execute_result"
    }
   ],
   "source": [
    "type(weather)"
   ]
  },
  {
   "cell_type": "code",
   "execution_count": 11,
   "id": "fc3ca9f4-d6f5-4df0-85be-5bd281461cd0",
   "metadata": {},
   "outputs": [],
   "source": [
    "weather.to_csv('weather.csv') #csv로 저장"
   ]
  },
  {
   "cell_type": "code",
   "execution_count": 12,
   "id": "95c79a16-0fec-43b3-856e-f834c226c080",
   "metadata": {},
   "outputs": [],
   "source": [
    "excel = pd.ExcelWriter('weather.xlsx')\n",
    "weather.to_excel(excel, '.', index=False )\n",
    "excel.save() #xlsx로 저장 "
   ]
  },
  {
   "cell_type": "code",
   "execution_count": 13,
   "id": "9bff090e-456a-4899-a14f-8111e177fffb",
   "metadata": {},
   "outputs": [],
   "source": [
    "weather.reset_index(drop=True, inplace=True)"
   ]
  },
  {
   "cell_type": "code",
   "execution_count": 21,
   "id": "a65a5fb4-b704-4ce3-8b83-4d15d8f2867c",
   "metadata": {},
   "outputs": [
    {
     "data": {
      "text/html": [
       "<div>\n",
       "<style scoped>\n",
       "    .dataframe tbody tr th:only-of-type {\n",
       "        vertical-align: middle;\n",
       "    }\n",
       "\n",
       "    .dataframe tbody tr th {\n",
       "        vertical-align: top;\n",
       "    }\n",
       "\n",
       "    .dataframe thead th {\n",
       "        text-align: right;\n",
       "    }\n",
       "</style>\n",
       "<table border=\"1\" class=\"dataframe\">\n",
       "  <thead>\n",
       "    <tr style=\"text-align: right;\">\n",
       "      <th></th>\n",
       "      <th>일시</th>\n",
       "      <th>최저기온</th>\n",
       "      <th>최고기온</th>\n",
       "      <th>날씨</th>\n",
       "    </tr>\n",
       "  </thead>\n",
       "  <tbody>\n",
       "    <tr>\n",
       "      <th>0</th>\n",
       "      <td>2021-07-15 00:00</td>\n",
       "      <td>25</td>\n",
       "      <td>33</td>\n",
       "      <td>구름많음</td>\n",
       "    </tr>\n",
       "    <tr>\n",
       "      <th>1</th>\n",
       "      <td>2021-07-15 12:00</td>\n",
       "      <td>25</td>\n",
       "      <td>33</td>\n",
       "      <td>구름많음</td>\n",
       "    </tr>\n",
       "    <tr>\n",
       "      <th>2</th>\n",
       "      <td>2021-07-16 00:00</td>\n",
       "      <td>24</td>\n",
       "      <td>33</td>\n",
       "      <td>구름많음</td>\n",
       "    </tr>\n",
       "    <tr>\n",
       "      <th>3</th>\n",
       "      <td>2021-07-16 12:00</td>\n",
       "      <td>24</td>\n",
       "      <td>33</td>\n",
       "      <td>구름많고 소나기</td>\n",
       "    </tr>\n",
       "    <tr>\n",
       "      <th>4</th>\n",
       "      <td>2021-07-17 00:00</td>\n",
       "      <td>24</td>\n",
       "      <td>32</td>\n",
       "      <td>구름많음</td>\n",
       "    </tr>\n",
       "  </tbody>\n",
       "</table>\n",
       "</div>"
      ],
      "text/plain": [
       "                 일시 최저기온 최고기온        날씨\n",
       "0  2021-07-15 00:00   25   33      구름많음\n",
       "1  2021-07-15 12:00   25   33      구름많음\n",
       "2  2021-07-16 00:00   24   33      구름많음\n",
       "3  2021-07-16 12:00   24   33  구름많고 소나기\n",
       "4  2021-07-17 00:00   24   32      구름많음"
      ]
     },
     "execution_count": 21,
     "metadata": {},
     "output_type": "execute_result"
    }
   ],
   "source": [
    "weather.head()"
   ]
  },
  {
   "cell_type": "code",
   "execution_count": 15,
   "id": "dda1e582-e126-4d98-8d2e-c68bb5b3ffa0",
   "metadata": {},
   "outputs": [],
   "source": [
    "weather.to_json('weather.json') #json으로 저장 "
   ]
  },
  {
   "cell_type": "code",
   "execution_count": 16,
   "id": "2e6a047e-ddad-4d65-8608-e7fcf3755e5e",
   "metadata": {},
   "outputs": [],
   "source": [
    "import sqlite3\n",
    "from pandas.io import sql\n",
    "import os"
   ]
  },
  {
   "cell_type": "code",
   "execution_count": 17,
   "id": "860337b4-d299-46e5-8f0a-5d4e5e79d1a9",
   "metadata": {},
   "outputs": [],
   "source": [
    "with sqlite3.connect(os.path.join('.','sqliteDB')) as con: # sqlite DB 파일이 존재하지 않는 경우 파일생성\n",
    "    try:\n",
    "        weather.to_sql(name = 'WEATHER_INFO', con = con, index = False, if_exists='append') \n",
    "        #if_exists : {'fail', 'replace', 'append'} default : fail\n",
    "    except Exception as e:\n",
    "        print(str(e))\n",
    "    \n",
    "    query = 'SELECT * FROM WEATHER_INFO'\n",
    "    data1 = pd.read_sql(query, con = con)"
   ]
  },
  {
   "cell_type": "code",
   "execution_count": 20,
   "id": "3d27fb6f-9434-43cb-99c0-9482477cfea4",
   "metadata": {},
   "outputs": [
    {
     "data": {
      "text/html": [
       "<div>\n",
       "<style scoped>\n",
       "    .dataframe tbody tr th:only-of-type {\n",
       "        vertical-align: middle;\n",
       "    }\n",
       "\n",
       "    .dataframe tbody tr th {\n",
       "        vertical-align: top;\n",
       "    }\n",
       "\n",
       "    .dataframe thead th {\n",
       "        text-align: right;\n",
       "    }\n",
       "</style>\n",
       "<table border=\"1\" class=\"dataframe\">\n",
       "  <thead>\n",
       "    <tr style=\"text-align: right;\">\n",
       "      <th></th>\n",
       "      <th>일시</th>\n",
       "      <th>최저기온</th>\n",
       "      <th>최고기온</th>\n",
       "      <th>날씨</th>\n",
       "    </tr>\n",
       "  </thead>\n",
       "  <tbody>\n",
       "    <tr>\n",
       "      <th>0</th>\n",
       "      <td>2021-07-15 00:00</td>\n",
       "      <td>25</td>\n",
       "      <td>33</td>\n",
       "      <td>구름많음</td>\n",
       "    </tr>\n",
       "    <tr>\n",
       "      <th>1</th>\n",
       "      <td>2021-07-15 12:00</td>\n",
       "      <td>25</td>\n",
       "      <td>33</td>\n",
       "      <td>구름많음</td>\n",
       "    </tr>\n",
       "    <tr>\n",
       "      <th>2</th>\n",
       "      <td>2021-07-16 00:00</td>\n",
       "      <td>24</td>\n",
       "      <td>33</td>\n",
       "      <td>구름많음</td>\n",
       "    </tr>\n",
       "    <tr>\n",
       "      <th>3</th>\n",
       "      <td>2021-07-16 12:00</td>\n",
       "      <td>24</td>\n",
       "      <td>33</td>\n",
       "      <td>구름많고 소나기</td>\n",
       "    </tr>\n",
       "    <tr>\n",
       "      <th>4</th>\n",
       "      <td>2021-07-17 00:00</td>\n",
       "      <td>24</td>\n",
       "      <td>32</td>\n",
       "      <td>구름많음</td>\n",
       "    </tr>\n",
       "  </tbody>\n",
       "</table>\n",
       "</div>"
      ],
      "text/plain": [
       "                 일시 최저기온 최고기온        날씨\n",
       "0  2021-07-15 00:00   25   33      구름많음\n",
       "1  2021-07-15 12:00   25   33      구름많음\n",
       "2  2021-07-16 00:00   24   33      구름많음\n",
       "3  2021-07-16 12:00   24   33  구름많고 소나기\n",
       "4  2021-07-17 00:00   24   32      구름많음"
      ]
     },
     "execution_count": 20,
     "metadata": {},
     "output_type": "execute_result"
    }
   ],
   "source": [
    "data1.head()"
   ]
  },
  {
   "cell_type": "code",
   "execution_count": 19,
   "id": "a380ae83-0102-4db4-aded-5dc050f84a4b",
   "metadata": {},
   "outputs": [],
   "source": [
    "excel = pd.ExcelWriter('weather2.xlsx')\n",
    "data1.to_excel(excel, '.', index=False )\n",
    "excel.save()"
   ]
  },
  {
   "cell_type": "code",
   "execution_count": 23,
   "id": "3af8dc9b-5646-4722-a15e-504f91c600d3",
   "metadata": {},
   "outputs": [
    {
     "data": {
      "text/html": [
       "<div>\n",
       "<style scoped>\n",
       "    .dataframe tbody tr th:only-of-type {\n",
       "        vertical-align: middle;\n",
       "    }\n",
       "\n",
       "    .dataframe tbody tr th {\n",
       "        vertical-align: top;\n",
       "    }\n",
       "\n",
       "    .dataframe thead th {\n",
       "        text-align: right;\n",
       "    }\n",
       "</style>\n",
       "<table border=\"1\" class=\"dataframe\">\n",
       "  <thead>\n",
       "    <tr style=\"text-align: right;\">\n",
       "      <th></th>\n",
       "      <th>일시</th>\n",
       "      <th>최저기온</th>\n",
       "      <th>최고기온</th>\n",
       "      <th>날씨</th>\n",
       "    </tr>\n",
       "  </thead>\n",
       "  <tbody>\n",
       "    <tr>\n",
       "      <th>0</th>\n",
       "      <td>2021-07-15 00:00</td>\n",
       "      <td>25</td>\n",
       "      <td>33</td>\n",
       "      <td>구름많음</td>\n",
       "    </tr>\n",
       "    <tr>\n",
       "      <th>1</th>\n",
       "      <td>2021-07-15 12:00</td>\n",
       "      <td>25</td>\n",
       "      <td>33</td>\n",
       "      <td>구름많음</td>\n",
       "    </tr>\n",
       "    <tr>\n",
       "      <th>2</th>\n",
       "      <td>2021-07-16 00:00</td>\n",
       "      <td>24</td>\n",
       "      <td>33</td>\n",
       "      <td>구름많음</td>\n",
       "    </tr>\n",
       "    <tr>\n",
       "      <th>3</th>\n",
       "      <td>2021-07-16 12:00</td>\n",
       "      <td>24</td>\n",
       "      <td>33</td>\n",
       "      <td>구름많고 소나기</td>\n",
       "    </tr>\n",
       "    <tr>\n",
       "      <th>4</th>\n",
       "      <td>2021-07-17 00:00</td>\n",
       "      <td>24</td>\n",
       "      <td>32</td>\n",
       "      <td>구름많음</td>\n",
       "    </tr>\n",
       "  </tbody>\n",
       "</table>\n",
       "</div>"
      ],
      "text/plain": [
       "                 일시  최저기온  최고기온        날씨\n",
       "0  2021-07-15 00:00    25    33      구름많음\n",
       "1  2021-07-15 12:00    25    33      구름많음\n",
       "2  2021-07-16 00:00    24    33      구름많음\n",
       "3  2021-07-16 12:00    24    33  구름많고 소나기\n",
       "4  2021-07-17 00:00    24    32      구름많음"
      ]
     },
     "execution_count": 23,
     "metadata": {},
     "output_type": "execute_result"
    }
   ],
   "source": [
    "df = pd.read_excel('weather2.xlsx')\n",
    "df.head()"
   ]
  }
 ],
 "metadata": {
  "kernelspec": {
   "display_name": "Python 3",
   "language": "python",
   "name": "python3"
  },
  "language_info": {
   "codemirror_mode": {
    "name": "ipython",
    "version": 3
   },
   "file_extension": ".py",
   "mimetype": "text/x-python",
   "name": "python",
   "nbconvert_exporter": "python",
   "pygments_lexer": "ipython3",
   "version": "3.8.8"
  }
 },
 "nbformat": 4,
 "nbformat_minor": 5
}
