{
 "cells": [
  {
   "cell_type": "code",
   "execution_count": 7,
   "id": "943f8831-f7c4-4d5d-999d-728229929566",
   "metadata": {},
   "outputs": [],
   "source": [
    "import requests\n",
    "import lxml.html\n",
    "import pandas as pd\n",
    "import sqlite3\n",
    "from pandas.io import sql\n",
    "import os"
   ]
  },
  {
   "cell_type": "code",
   "execution_count": 8,
   "id": "3b01b849-e582-4c05-bbd9-72659e4ae55f",
   "metadata": {},
   "outputs": [],
   "source": [
    "REG_DATE = '20210713'"
   ]
  },
  {
   "cell_type": "code",
   "execution_count": 9,
   "id": "0c7fb350-fc24-43f4-9522-425ee703ad63",
   "metadata": {
    "scrolled": true,
    "tags": []
   },
   "outputs": [
    {
     "name": "stdout",
     "output_type": "stream",
     "text": [
      "https://v.daum.net/v/20210713101903788 넥슨-원더홀딩스, 신규 게임 공동사업 계약 체결\n",
      "https://v.daum.net/v/20210713101756725 롯데케미칼, 수소에 '올인'..\"10년간 4.4조원 투자\"\n",
      "https://v.daum.net/v/20210713101712681 SK C&C, 청년 장애인 ICT 교육 '씨앗' 5년째 취업 결실\n",
      "https://v.daum.net/v/20210713101708676 윈스, 도시안전협회·스튜디오엑스코와 메타버스 보안 기술 개발\n",
      "https://v.daum.net/v/20210713101505596 \"실내외 어디든 간다\" LG전자, 통합배송로봇 첫 공개\n",
      "https://v.daum.net/v/20210713101452572 '배틀그라운드 모바일 인도', 출시 1주 만에 이용자 3400만 돌파\n",
      "https://v.daum.net/v/20210713101306509 MS, 클라우드 보안 기업 '리스크IQ' 인수 추진\n",
      "https://v.daum.net/v/20210713101302504 [인사]소방청\n",
      "https://v.daum.net/v/20210713101242491 GS네오텍, 공공부문 네이버 클라우드 플랫폼 IaaS 제공기업 선정\n",
      "https://v.daum.net/v/20210713101218475 화해, '썸머세일' 진행..여름 뷰티 상품 최대 80% 할인\n",
      "https://v.daum.net/v/20210713101102414 ??'네이버백신 모바일', AV-TEST 안드로이드용 안티바이러스 부문 인증 획득\n",
      "https://v.daum.net/v/20210713101025379 처치 곤란 '우라늄폐기물' 부피 90% 줄였다\n",
      "https://v.daum.net/v/20210713100909299 \"T맵에서 대리운전 서비스 이용하세요\"\n",
      "https://v.daum.net/v/20210713100905294 [산업리포트]포스트 모바일게임, '클라우드 게임'\n",
      "https://v.daum.net/v/20210713100904293 KT, 수원 위즈파크에서 28GHz기반 5G 체험하세요\n"
     ]
    }
   ],
   "source": [
    "response = requests.get('https://news.daum.net/breakingnews/digital?regDate={}'.format(REG_DATE))                   \n",
    "root = lxml.html.fromstring(response.content)\n",
    "for li in root.xpath('//*[@id=\"mArticle\"]/div[3]/ul/li'):\n",
    "    a = li.xpath('div/strong/a')[0]\n",
    "    url = a.get('href')\n",
    "    print(url, a.text)"
   ]
  }
 ],
 "metadata": {
  "kernelspec": {
   "display_name": "Python 3",
   "language": "python",
   "name": "python3"
  },
  "language_info": {
   "codemirror_mode": {
    "name": "ipython",
    "version": 3
   },
   "file_extension": ".py",
   "mimetype": "text/x-python",
   "name": "python",
   "nbconvert_exporter": "python",
   "pygments_lexer": "ipython3",
   "version": "3.8.8"
  }
 },
 "nbformat": 4,
 "nbformat_minor": 5
}
