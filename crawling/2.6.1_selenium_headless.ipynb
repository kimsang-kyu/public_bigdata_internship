{
 "cells": [
  {
   "cell_type": "code",
   "execution_count": 7,
   "id": "5bfc18a9-e878-4d89-b9f9-c1d3fbc85317",
   "metadata": {},
   "outputs": [],
   "source": [
    "from selenium.webdriver import Chrome\n",
    "import time\n",
    "import sqlite3\n",
    "from pandas.io import sql\n",
    "import os\n",
    "import pandas as pd"
   ]
  },
  {
   "cell_type": "code",
   "execution_count": 8,
   "id": "12924966-c7b5-4ab5-ba9b-f925d0e415c7",
   "metadata": {},
   "outputs": [],
   "source": [
    "#브라우저를 열지않고 background에서 작업을 수행함\n",
    "from selenium import webdriver\n",
    "\n",
    "options = webdriver.ChromeOptions()\n",
    "options.add_argument('--headless')\n",
    "options.add_argument('--disable-gpu')\n",
    "options.add_argument('--window-size=1280x1024')\n",
    "\n",
    "browser = webdriver.Chrome('chromedriver', options=options)"
   ]
  },
  {
   "cell_type": "code",
   "execution_count": 9,
   "id": "688f26ee-ae4b-4718-b578-b78a4ccdc5f4",
   "metadata": {},
   "outputs": [],
   "source": [
    "browser.get('https://www.data.go.kr/') #이 사이트로 이동한다.\n",
    "browser.implicitly_wait(5) #묵시적으로 기다려라 why? 네트워크 속도, 시간 지연으로 인해 기다렸다가 수행함"
   ]
  },
  {
   "cell_type": "code",
   "execution_count": 10,
   "id": "863bd084-154e-40ec-ad7b-d97def137304",
   "metadata": {},
   "outputs": [],
   "source": [
    "window_handles = browser.window_handles #핸들리스트"
   ]
  },
  {
   "cell_type": "code",
   "execution_count": 11,
   "id": "fc592325-c521-40de-96e4-355996da035f",
   "metadata": {},
   "outputs": [],
   "source": [
    "####################### login click\n",
    "#//*[@id=\"header\"]/div/div/div/div[2]/div/a[1]\n",
    "browser.find_element_by_xpath('//*[@id=\"header\"]/div/div/div/div[2]/div/a[1]').click() #클릭까지함\n",
    "browser.implicitly_wait(5) "
   ]
  },
  {
   "cell_type": "code",
   "execution_count": 12,
   "id": "3954e081-b240-48ff-a9f3-78a188358700",
   "metadata": {},
   "outputs": [],
   "source": [
    "####################### login\n",
    "#//*[@id=\"mberId\"]\n",
    "browser.find_element_by_xpath('//*[@id=\"mberId\"]').send_keys('abc9357') #아이디 \n",
    "#//*[@id=\"pswrd\"]\n",
    "browser.find_element_by_xpath('//*[@id=\"pswrd\"]').send_keys('U4Sdvy4ArH^2') #비번\n",
    "#//*[@id=\"loginVo\"]/div[2]/div[2]/div[2]/div/div[1]/button\n",
    "browser.find_element_by_xpath('//*[@id=\"loginVo\"]/div[2]/div[2]/div[2]/div/div[1]/button').click()\n",
    "browser.implicitly_wait(5)"
   ]
  },
  {
   "cell_type": "code",
   "execution_count": 13,
   "id": "5c95df22-2797-4fe2-9e84-11ec84baf09f",
   "metadata": {},
   "outputs": [],
   "source": [
    "browser.find_element_by_xpath('//*[@id=\"layer_popup_info_1\"]/div[1]/a').click()\n",
    "browser.find_element_by_xpath('//*[@id=\"layer_popup_info_0\"]/div[1]/a').click()\n",
    "#//*[@id=\"layer_popup_info_0\"]/div[1]/a\n",
    "#//*[@id=\"layer_popup_info_1\"]/div[1]/a\n",
    "#https://catloaf.tistory.com/m/19"
   ]
  },
  {
   "cell_type": "code",
   "execution_count": 14,
   "id": "f99f5998-75e0-4d50-9994-a9917d215c86",
   "metadata": {
    "tags": []
   },
   "outputs": [],
   "source": [
    "#//*[@id=\"M000400_pc\"]/a\n",
    "browser.find_element_by_xpath('//*[@id=\"M000400_pc\"]/a').click()"
   ]
  },
  {
   "cell_type": "code",
   "execution_count": 15,
   "id": "b264c453-f251-4536-837a-18b8959016af",
   "metadata": {},
   "outputs": [],
   "source": [
    "#//*[@id=\"M000402_pc\"]/a\n",
    "browser.find_element_by_xpath('//*[@id=\"M000402_pc\"]/a').click()"
   ]
  },
  {
   "cell_type": "code",
   "execution_count": 16,
   "id": "7eabffdd-b2df-410d-b8cd-0c0dd387b6c8",
   "metadata": {},
   "outputs": [],
   "source": [
    "def db_save(ARTICLE_LIST):\n",
    "    with sqlite3.connect(os.path.join('.','sqliteDB')) as con: # sqlite DB 파일이 존재하지 않는 경우 파일생성\n",
    "        try:\n",
    "            ARTICLE_LIST.to_sql(name = 'ARTICLE_LIST', con = con, index = False, if_exists='append') \n",
    "            #if_exists : {'fail', 'replace', 'append'} default : fail\n",
    "        except Exception as e:\n",
    "            print(str(e))\n",
    "        print(len(ARTICLE_LIST), '건 저장완료..')"
   ]
  },
  {
   "cell_type": "code",
   "execution_count": 17,
   "id": "8db7cc15-0449-44fd-be88-889fdde3496f",
   "metadata": {},
   "outputs": [
    {
     "name": "stdout",
     "output_type": "stream",
     "text": [
      "10 건 저장완료..\n"
     ]
    }
   ],
   "source": [
    "trs = browser.find_elements_by_xpath('//*[@id=\"searchVO\"]/div[5]/table/tbody/tr')\n",
    "df_list = []\n",
    "for tr in trs: #한개의 tr은 5개의 td로 구성되어 있음\n",
    "    df = pd.DataFrame({\n",
    "            'NO': [tr.find_element_by_xpath('td[1]').text],\n",
    "            'TITLE': [tr.find_element_by_xpath('td[2]').text],\n",
    "            'IQRY': [tr.find_element_by_xpath('td[3]').text],\n",
    "            'REGDT': [tr.find_element_by_xpath('td[4]').text],\n",
    "            'CHGDT': [tr.find_element_by_xpath('td[5]').text],\n",
    "        })\n",
    "    df_list.append(df)\n",
    "    \n",
    "ARTICLE_LIST = pd.concat(df_list)\n",
    "db_save(ARTICLE_LIST)"
   ]
  },
  {
   "cell_type": "code",
   "execution_count": 20,
   "id": "65fc9dbb-a2aa-41bc-b1d7-59c0fd1f65fe",
   "metadata": {},
   "outputs": [
    {
     "data": {
      "text/html": [
       "<div>\n",
       "<style scoped>\n",
       "    .dataframe tbody tr th:only-of-type {\n",
       "        vertical-align: middle;\n",
       "    }\n",
       "\n",
       "    .dataframe tbody tr th {\n",
       "        vertical-align: top;\n",
       "    }\n",
       "\n",
       "    .dataframe thead th {\n",
       "        text-align: right;\n",
       "    }\n",
       "</style>\n",
       "<table border=\"1\" class=\"dataframe\">\n",
       "  <thead>\n",
       "    <tr style=\"text-align: right;\">\n",
       "      <th></th>\n",
       "      <th>NO</th>\n",
       "      <th>TITLE</th>\n",
       "      <th>IQRY</th>\n",
       "      <th>REGDT</th>\n",
       "      <th>CHGDT</th>\n",
       "    </tr>\n",
       "  </thead>\n",
       "  <tbody>\n",
       "    <tr>\n",
       "      <th>0</th>\n",
       "      <td>756</td>\n",
       "      <td>기타 범정부 데이터 표준용어통합 도구 파일첨부</td>\n",
       "      <td>472</td>\n",
       "      <td>2021-07-05</td>\n",
       "      <td>2021-07-05</td>\n",
       "    </tr>\n",
       "    <tr>\n",
       "      <th>0</th>\n",
       "      <td>755</td>\n",
       "      <td>기타 개방데이터(파일) 진단·정비 도구 파일첨부</td>\n",
       "      <td>143</td>\n",
       "      <td>2021-07-05</td>\n",
       "      <td>2021-07-06</td>\n",
       "    </tr>\n",
       "    <tr>\n",
       "      <th>0</th>\n",
       "      <td>754</td>\n",
       "      <td>뉴스레터 [공공데이터 NOW] 공공데이터 뉴스레터 77호 파일첨부</td>\n",
       "      <td>212</td>\n",
       "      <td>2021-07-01</td>\n",
       "      <td>2021-07-01</td>\n",
       "    </tr>\n",
       "    <tr>\n",
       "      <th>0</th>\n",
       "      <td>753</td>\n",
       "      <td>교육&amp;이용안내 [국세청] 사업자등록 상태조회 서비스 오픈API 테스트 프로그램 파일첨부</td>\n",
       "      <td>1,057</td>\n",
       "      <td>2021-06-28</td>\n",
       "      <td>2021-07-12</td>\n",
       "    </tr>\n",
       "    <tr>\n",
       "      <th>0</th>\n",
       "      <td>750</td>\n",
       "      <td>법령(고시)&amp;지침 「공공기관의 데이터베이스 표준화 지침」 개정 고시 안내 파일첨부</td>\n",
       "      <td>520</td>\n",
       "      <td>2021-06-07</td>\n",
       "      <td>2021-07-09</td>\n",
       "    </tr>\n",
       "    <tr>\n",
       "      <th>0</th>\n",
       "      <td>749</td>\n",
       "      <td>기타 공공데이터 해외동향지 제26호(2020 EU 오픈데이터 성숙도 보고서 주요내용...</td>\n",
       "      <td>83</td>\n",
       "      <td>2021-06-04</td>\n",
       "      <td>2021-06-04</td>\n",
       "    </tr>\n",
       "    <tr>\n",
       "      <th>0</th>\n",
       "      <td>748</td>\n",
       "      <td>뉴스레터 [공공데이터 NOW] 공공데이터 뉴스레터 76호 파일첨부</td>\n",
       "      <td>358</td>\n",
       "      <td>2021-05-28</td>\n",
       "      <td>2021-05-28</td>\n",
       "    </tr>\n",
       "    <tr>\n",
       "      <th>0</th>\n",
       "      <td>747</td>\n",
       "      <td>기타 [공공데이터 활용기업 사례집] 디지털뉴딜 시대! 공공데이터 가치, 창업과 같이...</td>\n",
       "      <td>212</td>\n",
       "      <td>2021-05-24</td>\n",
       "      <td>2021-05-24</td>\n",
       "    </tr>\n",
       "    <tr>\n",
       "      <th>0</th>\n",
       "      <td>746</td>\n",
       "      <td>뉴스레터 [공공데이터 NOW] 뉴스레터 제 75호 파일첨부</td>\n",
       "      <td>418</td>\n",
       "      <td>2021-04-30</td>\n",
       "      <td>2021-04-30</td>\n",
       "    </tr>\n",
       "    <tr>\n",
       "      <th>0</th>\n",
       "      <td>744</td>\n",
       "      <td>뉴스레터 [공공데이터 NOW] 공공데이터 뉴스레터 74호 파일첨부</td>\n",
       "      <td>442</td>\n",
       "      <td>2021-03-31</td>\n",
       "      <td>2021-03-31</td>\n",
       "    </tr>\n",
       "  </tbody>\n",
       "</table>\n",
       "</div>"
      ],
      "text/plain": [
       "    NO                                              TITLE   IQRY       REGDT  \\\n",
       "0  756                          기타 범정부 데이터 표준용어통합 도구 파일첨부    472  2021-07-05   \n",
       "0  755                         기타 개방데이터(파일) 진단·정비 도구 파일첨부    143  2021-07-05   \n",
       "0  754               뉴스레터 [공공데이터 NOW] 공공데이터 뉴스레터 77호 파일첨부    212  2021-07-01   \n",
       "0  753   교육&이용안내 [국세청] 사업자등록 상태조회 서비스 오픈API 테스트 프로그램 파일첨부  1,057  2021-06-28   \n",
       "0  750      법령(고시)&지침 「공공기관의 데이터베이스 표준화 지침」 개정 고시 안내 파일첨부    520  2021-06-07   \n",
       "0  749  기타 공공데이터 해외동향지 제26호(2020 EU 오픈데이터 성숙도 보고서 주요내용...     83  2021-06-04   \n",
       "0  748               뉴스레터 [공공데이터 NOW] 공공데이터 뉴스레터 76호 파일첨부    358  2021-05-28   \n",
       "0  747  기타 [공공데이터 활용기업 사례집] 디지털뉴딜 시대! 공공데이터 가치, 창업과 같이...    212  2021-05-24   \n",
       "0  746                   뉴스레터 [공공데이터 NOW] 뉴스레터 제 75호 파일첨부    418  2021-04-30   \n",
       "0  744               뉴스레터 [공공데이터 NOW] 공공데이터 뉴스레터 74호 파일첨부    442  2021-03-31   \n",
       "\n",
       "        CHGDT  \n",
       "0  2021-07-05  \n",
       "0  2021-07-06  \n",
       "0  2021-07-01  \n",
       "0  2021-07-12  \n",
       "0  2021-07-09  \n",
       "0  2021-06-04  \n",
       "0  2021-05-28  \n",
       "0  2021-05-24  \n",
       "0  2021-04-30  \n",
       "0  2021-03-31  "
      ]
     },
     "execution_count": 20,
     "metadata": {},
     "output_type": "execute_result"
    }
   ],
   "source": [
    "ARTICLE_LIST"
   ]
  },
  {
   "cell_type": "code",
   "execution_count": 21,
   "id": "08f6edd8-cc57-4d8a-be5e-a5d16995d5b7",
   "metadata": {},
   "outputs": [],
   "source": [
    "browser.find_element_by_xpath('//*[@id=\"searchVO\"]/div[5]/table/tbody/tr[1]/td[2]/a').click()\n",
    "browser.implicitly_wait(3)"
   ]
  },
  {
   "cell_type": "code",
   "execution_count": 22,
   "id": "6c8aad2e-4afe-4ff6-92ad-578256d8e9fc",
   "metadata": {},
   "outputs": [],
   "source": [
    "browser.find_element_by_xpath('//*[@id=\"recsroomDetail\"]/div[2]/div[4]/div/a').click()\n",
    "time.sleep(10)"
   ]
  },
  {
   "cell_type": "code",
   "execution_count": 23,
   "id": "091c7365-8eb2-40c9-8c49-423492386c04",
   "metadata": {},
   "outputs": [],
   "source": [
    "browser.close()"
   ]
  },
  {
   "cell_type": "code",
   "execution_count": null,
   "id": "d4d24b0a-e1b9-4b17-95aa-38921535e751",
   "metadata": {},
   "outputs": [],
   "source": []
  }
 ],
 "metadata": {
  "kernelspec": {
   "display_name": "Python 3",
   "language": "python",
   "name": "python3"
  },
  "language_info": {
   "codemirror_mode": {
    "name": "ipython",
    "version": 3
   },
   "file_extension": ".py",
   "mimetype": "text/x-python",
   "name": "python",
   "nbconvert_exporter": "python",
   "pygments_lexer": "ipython3",
   "version": "3.8.8"
  }
 },
 "nbformat": 4,
 "nbformat_minor": 5
}
