{
 "cells": [
  {
   "cell_type": "code",
   "execution_count": 1,
   "id": "c19fdfeb-145a-42e9-9b11-dd738bd6b8d6",
   "metadata": {},
   "outputs": [],
   "source": [
    "#3.7.1.1~2\n",
    "import requests\n",
    "import lxml.html"
   ]
  },
  {
   "cell_type": "code",
   "execution_count": 2,
   "id": "5a2be003-4cb0-4233-bf37-3c761dba0935",
   "metadata": {
    "scrolled": true,
    "tags": []
   },
   "outputs": [
    {
     "name": "stdout",
     "output_type": "stream",
     "text": [
      "/store/books/look.php?p_code=B7623190015\n",
      "/store/books/look.php?p_code=B7623190015\n",
      "/store/books/look.php?p_code=B4300598719\n",
      "javascript:;\n",
      "/store/books/look.php?p_code=B4300598719\n",
      "/store/books/look.php?p_code=B9108907099\n",
      "/store/books/look.php?p_code=B9108907099\n",
      "/store/books/look.php?p_code=B7015117381\n",
      "javascript:;\n",
      "/store/books/look.php?p_code=B7015117381\n",
      "/store/books/look.php?p_code=B7448632539\n",
      "javascript:;\n",
      "/store/books/look.php?p_code=B7448632539\n",
      "/store/books/look.php?p_code=B3148701816\n",
      "/store/books/look.php?p_code=B3148701816\n",
      "/store/books/look.php?p_code=B2591303726\n",
      "/store/books/look.php?p_code=B2591303726\n",
      "/store/books/look.php?p_code=B9602652686\n",
      "javascript:;\n",
      "/store/books/look.php?p_code=B9602652686\n",
      "/store/books/look.php?p_code=B7468885216\n",
      "javascript:;\n",
      "/store/books/look.php?p_code=B7468885216\n",
      "/store/books/look.php?p_code=B1108557246\n",
      "/store/books/look.php?p_code=B1108557246\n",
      "/store/books/look.php?p_code=B9354330938\n",
      "javascript:;\n",
      "/store/books/look.php?p_code=B9354330938\n",
      "/store/books/look.php?p_code=B3006151946\n",
      "/store/books/look.php?p_code=B3006151946\n",
      "/store/books/look.php?p_code=B2388883228\n",
      "/store/books/look.php?p_code=B2388883228\n",
      "/store/books/look.php?p_code=B4766499846\n",
      "/store/books/look.php?p_code=B4766499846\n",
      "/store/books/look.php?p_code=B1904486238\n",
      "/store/books/look.php?p_code=B1904486238\n",
      "/store/books/look.php?p_code=B9380943452\n",
      "javascript:;\n",
      "/store/books/look.php?p_code=B9380943452\n",
      "/store/books/look.php?p_code=B6918140228\n",
      "javascript:;\n",
      "/store/books/look.php?p_code=B6918140228\n",
      "/store/books/look.php?p_code=B3573121629\n",
      "javascript:;\n",
      "/store/books/look.php?p_code=B3573121629\n",
      "/store/books/look.php?p_code=B7132069963\n",
      "/store/books/look.php?p_code=B7132069963\n",
      "/store/books/look.php?p_code=B8742050283\n",
      "/store/books/look.php?p_code=B8742050283\n"
     ]
    }
   ],
   "source": [
    "response = requests.get('http://www.hanbit.co.kr/store/books/new_book_list.html')\n",
    "root = lxml.html.fromstring(response.content) #content를 꺼내오고 문자열로 바꿔 root에 저장\n",
    "for a in root.cssselect('.view_box a'): \n",
    "    url = a.get('href')\n",
    "    print(url)"
   ]
  },
  {
   "cell_type": "code",
   "execution_count": 3,
   "id": "4a5cacf5-5393-4bbe-b901-20f13d2f02ab",
   "metadata": {},
   "outputs": [],
   "source": [
    "response = requests.get('http://www.hanbit.co.kr/store/books/new_book_list.html')\n",
    "root = lxml.html.fromstring(response.content)"
   ]
  },
  {
   "cell_type": "code",
   "execution_count": 4,
   "id": "1b05969f-a6e7-4f79-88be-cbf3c134464e",
   "metadata": {
    "scrolled": true,
    "tags": []
   },
   "outputs": [
    {
     "name": "stdout",
     "output_type": "stream",
     "text": [
      "https://www.hanbit.co.kr/store/books/look.php?p_code=B7623190015\n",
      "https://www.hanbit.co.kr/store/books/look.php?p_code=B4300598719\n",
      "https://www.hanbit.co.kr/store/books/look.php?p_code=B9108907099\n",
      "https://www.hanbit.co.kr/store/books/look.php?p_code=B7015117381\n",
      "https://www.hanbit.co.kr/store/books/look.php?p_code=B7448632539\n",
      "https://www.hanbit.co.kr/store/books/look.php?p_code=B3148701816\n",
      "https://www.hanbit.co.kr/store/books/look.php?p_code=B2591303726\n",
      "https://www.hanbit.co.kr/store/books/look.php?p_code=B9602652686\n",
      "https://www.hanbit.co.kr/store/books/look.php?p_code=B7468885216\n",
      "https://www.hanbit.co.kr/store/books/look.php?p_code=B1108557246\n",
      "https://www.hanbit.co.kr/store/books/look.php?p_code=B9354330938\n",
      "https://www.hanbit.co.kr/store/books/look.php?p_code=B3006151946\n",
      "https://www.hanbit.co.kr/store/books/look.php?p_code=B2388883228\n",
      "https://www.hanbit.co.kr/store/books/look.php?p_code=B4766499846\n",
      "https://www.hanbit.co.kr/store/books/look.php?p_code=B1904486238\n",
      "https://www.hanbit.co.kr/store/books/look.php?p_code=B9380943452\n",
      "https://www.hanbit.co.kr/store/books/look.php?p_code=B6918140228\n",
      "https://www.hanbit.co.kr/store/books/look.php?p_code=B3573121629\n",
      "https://www.hanbit.co.kr/store/books/look.php?p_code=B7132069963\n",
      "https://www.hanbit.co.kr/store/books/look.php?p_code=B8742050283\n"
     ]
    }
   ],
   "source": [
    "# 모든 링크를 절대 URL로 변환\n",
    "root.make_links_absolute(response.url)\n",
    "\n",
    "# 목록에서 javascript 제거\n",
    "for a in root.cssselect('.view_box .book_tit a'):\n",
    "    url = a.get('href')\n",
    "    print(url)"
   ]
  }
 ],
 "metadata": {
  "kernelspec": {
   "display_name": "Python 3",
   "language": "python",
   "name": "python3"
  },
  "language_info": {
   "codemirror_mode": {
    "name": "ipython",
    "version": 3
   },
   "file_extension": ".py",
   "mimetype": "text/x-python",
   "name": "python",
   "nbconvert_exporter": "python",
   "pygments_lexer": "ipython3",
   "version": "3.8.8"
  }
 },
 "nbformat": 4,
 "nbformat_minor": 5
}
